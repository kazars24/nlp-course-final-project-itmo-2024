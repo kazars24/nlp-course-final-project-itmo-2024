{
 "cells": [
  {
   "cell_type": "code",
   "execution_count": 1,
   "id": "33bd4cfc",
   "metadata": {
    "_cell_guid": "b1076dfc-b9ad-4769-8c92-a6c4dae69d19",
    "_uuid": "8f2839f25d086af736a60e9eeb907d3b93b6e0e5",
    "execution": {
     "iopub.execute_input": "2024-05-04T17:24:07.107554Z",
     "iopub.status.busy": "2024-05-04T17:24:07.107160Z",
     "iopub.status.idle": "2024-05-04T17:24:13.171923Z",
     "shell.execute_reply": "2024-05-04T17:24:13.171082Z"
    },
    "papermill": {
     "duration": 6.073968,
     "end_time": "2024-05-04T17:24:13.174044",
     "exception": false,
     "start_time": "2024-05-04T17:24:07.100076",
     "status": "completed"
    },
    "tags": []
   },
   "outputs": [
    {
     "data": {
      "text/plain": []
     },
     "execution_count": 1,
     "metadata": {},
     "output_type": "execute_result"
    }
   ],
   "source": [
    "import pandas as pd\n",
    "from sklearn.model_selection import train_test_split\n",
    "from sklearn.preprocessing import LabelEncoder\n",
    "from sklearn.metrics import cohen_kappa_score\n",
    "import os\n",
    "import random\n",
    "import torch\n",
    "import numpy as np\n",
    "import wandb\n",
    "\n",
    "wandb.init(mode='disabled')"
   ]
  },
  {
   "cell_type": "code",
   "execution_count": 2,
   "id": "cfae3ed6",
   "metadata": {
    "execution": {
     "iopub.execute_input": "2024-05-04T17:24:13.186272Z",
     "iopub.status.busy": "2024-05-04T17:24:13.185784Z",
     "iopub.status.idle": "2024-05-04T17:24:13.192858Z",
     "shell.execute_reply": "2024-05-04T17:24:13.192185Z"
    },
    "papermill": {
     "duration": 0.015192,
     "end_time": "2024-05-04T17:24:13.194732",
     "exception": false,
     "start_time": "2024-05-04T17:24:13.179540",
     "status": "completed"
    },
    "tags": []
   },
   "outputs": [],
   "source": [
    "TORCH_SEED = 52\n",
    "\n",
    "def seed_everything(TORCH_SEED):\n",
    "    random.seed(TORCH_SEED)\n",
    "    os.environ['PYTHONHASHSEED'] = str(TORCH_SEED)\n",
    "    np.random.seed(TORCH_SEED)\n",
    "    torch.manual_seed(TORCH_SEED)\n",
    "    torch.cuda.manual_seed_all(TORCH_SEED)\n",
    "    \n",
    "seed_everything(52)"
   ]
  },
  {
   "cell_type": "code",
   "execution_count": 3,
   "id": "f60f311b",
   "metadata": {
    "execution": {
     "iopub.execute_input": "2024-05-04T17:24:13.206049Z",
     "iopub.status.busy": "2024-05-04T17:24:13.205769Z",
     "iopub.status.idle": "2024-05-04T17:24:13.901837Z",
     "shell.execute_reply": "2024-05-04T17:24:13.901003Z"
    },
    "papermill": {
     "duration": 0.704209,
     "end_time": "2024-05-04T17:24:13.904084",
     "exception": false,
     "start_time": "2024-05-04T17:24:13.199875",
     "status": "completed"
    },
    "tags": []
   },
   "outputs": [],
   "source": [
    "df = pd.read_csv('/kaggle/input/learning-agency-lab-automated-essay-scoring-2/train.csv')\n",
    "test_df = pd.read_csv('/kaggle/input/learning-agency-lab-automated-essay-scoring-2/test.csv')"
   ]
  },
  {
   "cell_type": "code",
   "execution_count": 4,
   "id": "70b004f7",
   "metadata": {
    "execution": {
     "iopub.execute_input": "2024-05-04T17:24:13.916369Z",
     "iopub.status.busy": "2024-05-04T17:24:13.915610Z",
     "iopub.status.idle": "2024-05-04T17:24:13.936038Z",
     "shell.execute_reply": "2024-05-04T17:24:13.935170Z"
    },
    "papermill": {
     "duration": 0.028322,
     "end_time": "2024-05-04T17:24:13.937905",
     "exception": false,
     "start_time": "2024-05-04T17:24:13.909583",
     "status": "completed"
    },
    "tags": []
   },
   "outputs": [
    {
     "data": {
      "text/html": [
       "<div>\n",
       "<style scoped>\n",
       "    .dataframe tbody tr th:only-of-type {\n",
       "        vertical-align: middle;\n",
       "    }\n",
       "\n",
       "    .dataframe tbody tr th {\n",
       "        vertical-align: top;\n",
       "    }\n",
       "\n",
       "    .dataframe thead th {\n",
       "        text-align: right;\n",
       "    }\n",
       "</style>\n",
       "<table border=\"1\" class=\"dataframe\">\n",
       "  <thead>\n",
       "    <tr style=\"text-align: right;\">\n",
       "      <th></th>\n",
       "      <th>essay_id</th>\n",
       "      <th>full_text</th>\n",
       "      <th>score</th>\n",
       "    </tr>\n",
       "  </thead>\n",
       "  <tbody>\n",
       "    <tr>\n",
       "      <th>0</th>\n",
       "      <td>000d118</td>\n",
       "      <td>Many people have car where they live. The thin...</td>\n",
       "      <td>2</td>\n",
       "    </tr>\n",
       "    <tr>\n",
       "      <th>1</th>\n",
       "      <td>000fe60</td>\n",
       "      <td>I am a scientist at NASA that is discussing th...</td>\n",
       "      <td>2</td>\n",
       "    </tr>\n",
       "    <tr>\n",
       "      <th>2</th>\n",
       "      <td>001ab80</td>\n",
       "      <td>People always wish they had the same technolog...</td>\n",
       "      <td>3</td>\n",
       "    </tr>\n",
       "    <tr>\n",
       "      <th>3</th>\n",
       "      <td>001bdc0</td>\n",
       "      <td>We all heard about Venus, the planet without a...</td>\n",
       "      <td>3</td>\n",
       "    </tr>\n",
       "    <tr>\n",
       "      <th>4</th>\n",
       "      <td>002ba53</td>\n",
       "      <td>Dear, State Senator\\n\\nThis is a letter to arg...</td>\n",
       "      <td>2</td>\n",
       "    </tr>\n",
       "  </tbody>\n",
       "</table>\n",
       "</div>"
      ],
      "text/plain": [
       "  essay_id                                          full_text  score\n",
       "0  000d118  Many people have car where they live. The thin...      2\n",
       "1  000fe60  I am a scientist at NASA that is discussing th...      2\n",
       "2  001ab80  People always wish they had the same technolog...      3\n",
       "3  001bdc0  We all heard about Venus, the planet without a...      3\n",
       "4  002ba53  Dear, State Senator\\n\\nThis is a letter to arg...      2"
      ]
     },
     "execution_count": 4,
     "metadata": {},
     "output_type": "execute_result"
    }
   ],
   "source": [
    "le = LabelEncoder()\n",
    "\n",
    "df['score'] = le.fit_transform(df['score'])\n",
    "df.head()"
   ]
  },
  {
   "cell_type": "code",
   "execution_count": 5,
   "id": "0438fdb9",
   "metadata": {
    "execution": {
     "iopub.execute_input": "2024-05-04T17:24:13.950141Z",
     "iopub.status.busy": "2024-05-04T17:24:13.949508Z",
     "iopub.status.idle": "2024-05-04T17:24:13.959069Z",
     "shell.execute_reply": "2024-05-04T17:24:13.958335Z"
    },
    "papermill": {
     "duration": 0.017456,
     "end_time": "2024-05-04T17:24:13.960877",
     "exception": false,
     "start_time": "2024-05-04T17:24:13.943421",
     "status": "completed"
    },
    "tags": []
   },
   "outputs": [],
   "source": [
    "df = df.set_index('essay_id').rename(columns={'score': 'label', 'full_text': 'text'})\n",
    "test_df = test_df.set_index('essay_id').rename(columns={'full_text': 'text'})"
   ]
  },
  {
   "cell_type": "code",
   "execution_count": 6,
   "id": "8dab9496",
   "metadata": {
    "execution": {
     "iopub.execute_input": "2024-05-04T17:24:13.973425Z",
     "iopub.status.busy": "2024-05-04T17:24:13.972705Z",
     "iopub.status.idle": "2024-05-04T17:24:13.992948Z",
     "shell.execute_reply": "2024-05-04T17:24:13.991997Z"
    },
    "papermill": {
     "duration": 0.028654,
     "end_time": "2024-05-04T17:24:13.994997",
     "exception": false,
     "start_time": "2024-05-04T17:24:13.966343",
     "status": "completed"
    },
    "tags": []
   },
   "outputs": [],
   "source": [
    "train_split, val_split = train_test_split(df, test_size=0.2, random_state=52, stratify=df['label'])"
   ]
  },
  {
   "cell_type": "code",
   "execution_count": 7,
   "id": "1adcb3af",
   "metadata": {
    "execution": {
     "iopub.execute_input": "2024-05-04T17:24:14.008600Z",
     "iopub.status.busy": "2024-05-04T17:24:14.008141Z",
     "iopub.status.idle": "2024-05-04T17:24:15.210595Z",
     "shell.execute_reply": "2024-05-04T17:24:15.209786Z"
    },
    "papermill": {
     "duration": 1.212349,
     "end_time": "2024-05-04T17:24:15.212884",
     "exception": false,
     "start_time": "2024-05-04T17:24:14.000535",
     "status": "completed"
    },
    "tags": []
   },
   "outputs": [],
   "source": [
    "from datasets import Dataset\n",
    "\n",
    "dataset_train = Dataset.from_pandas(train_split)\n",
    "dataset_val = Dataset.from_pandas(val_split)\n",
    "dataset_test = Dataset.from_pandas(test_df)"
   ]
  },
  {
   "cell_type": "code",
   "execution_count": 8,
   "id": "ef6dc8b9",
   "metadata": {
    "execution": {
     "iopub.execute_input": "2024-05-04T17:24:15.225502Z",
     "iopub.status.busy": "2024-05-04T17:24:15.225005Z",
     "iopub.status.idle": "2024-05-04T17:24:15.229088Z",
     "shell.execute_reply": "2024-05-04T17:24:15.228265Z"
    },
    "papermill": {
     "duration": 0.01248,
     "end_time": "2024-05-04T17:24:15.231012",
     "exception": false,
     "start_time": "2024-05-04T17:24:15.218532",
     "status": "completed"
    },
    "tags": []
   },
   "outputs": [],
   "source": [
    "model_name = '/kaggle/input/roberta-essay-scoring/roberta-trained/checkpoint-2598'"
   ]
  },
  {
   "cell_type": "code",
   "execution_count": 9,
   "id": "b8c3b97c",
   "metadata": {
    "execution": {
     "iopub.execute_input": "2024-05-04T17:24:15.242597Z",
     "iopub.status.busy": "2024-05-04T17:24:15.242321Z",
     "iopub.status.idle": "2024-05-04T17:24:16.841514Z",
     "shell.execute_reply": "2024-05-04T17:24:16.840494Z"
    },
    "papermill": {
     "duration": 1.607427,
     "end_time": "2024-05-04T17:24:16.843798",
     "exception": false,
     "start_time": "2024-05-04T17:24:15.236371",
     "status": "completed"
    },
    "tags": []
   },
   "outputs": [],
   "source": [
    "from transformers import AutoTokenizer\n",
    "\n",
    "tokenizer = AutoTokenizer.from_pretrained(model_name)"
   ]
  },
  {
   "cell_type": "code",
   "execution_count": 10,
   "id": "9ea1d5ad",
   "metadata": {
    "execution": {
     "iopub.execute_input": "2024-05-04T17:24:16.856659Z",
     "iopub.status.busy": "2024-05-04T17:24:16.855750Z",
     "iopub.status.idle": "2024-05-04T17:24:16.860276Z",
     "shell.execute_reply": "2024-05-04T17:24:16.859444Z"
    },
    "papermill": {
     "duration": 0.012726,
     "end_time": "2024-05-04T17:24:16.862173",
     "exception": false,
     "start_time": "2024-05-04T17:24:16.849447",
     "status": "completed"
    },
    "tags": []
   },
   "outputs": [],
   "source": [
    "def preprocess_function(examples):\n",
    "    return tokenizer(examples[\"text\"], truncation=True)"
   ]
  },
  {
   "cell_type": "code",
   "execution_count": 11,
   "id": "48a59d88",
   "metadata": {
    "execution": {
     "iopub.execute_input": "2024-05-04T17:24:16.874307Z",
     "iopub.status.busy": "2024-05-04T17:24:16.873593Z",
     "iopub.status.idle": "2024-05-04T17:24:19.311336Z",
     "shell.execute_reply": "2024-05-04T17:24:19.310457Z"
    },
    "papermill": {
     "duration": 2.446014,
     "end_time": "2024-05-04T17:24:19.313547",
     "exception": false,
     "start_time": "2024-05-04T17:24:16.867533",
     "status": "completed"
    },
    "tags": []
   },
   "outputs": [
    {
     "data": {
      "application/vnd.jupyter.widget-view+json": {
       "model_id": "3c98a8b9580044ee9379553f3f0dbc04",
       "version_major": 2,
       "version_minor": 0
      },
      "text/plain": [
       "Map:   0%|          | 0/3462 [00:00<?, ? examples/s]"
      ]
     },
     "metadata": {},
     "output_type": "display_data"
    },
    {
     "data": {
      "application/vnd.jupyter.widget-view+json": {
       "model_id": "061151976dac441e871180988ee47e78",
       "version_major": 2,
       "version_minor": 0
      },
      "text/plain": [
       "Map:   0%|          | 0/3 [00:00<?, ? examples/s]"
      ]
     },
     "metadata": {},
     "output_type": "display_data"
    }
   ],
   "source": [
    "tokenized_val = dataset_val.map(preprocess_function, batched=True)\n",
    "tokenized_test = dataset_test.map(preprocess_function, batched=True)"
   ]
  },
  {
   "cell_type": "code",
   "execution_count": 12,
   "id": "758c8ca7",
   "metadata": {
    "execution": {
     "iopub.execute_input": "2024-05-04T17:24:19.327271Z",
     "iopub.status.busy": "2024-05-04T17:24:19.326754Z",
     "iopub.status.idle": "2024-05-04T17:24:28.370346Z",
     "shell.execute_reply": "2024-05-04T17:24:28.369515Z"
    },
    "papermill": {
     "duration": 9.05285,
     "end_time": "2024-05-04T17:24:28.372623",
     "exception": false,
     "start_time": "2024-05-04T17:24:19.319773",
     "status": "completed"
    },
    "tags": []
   },
   "outputs": [
    {
     "name": "stderr",
     "output_type": "stream",
     "text": [
      "2024-05-04 17:24:20.828037: E external/local_xla/xla/stream_executor/cuda/cuda_dnn.cc:9261] Unable to register cuDNN factory: Attempting to register factory for plugin cuDNN when one has already been registered\n",
      "2024-05-04 17:24:20.828135: E external/local_xla/xla/stream_executor/cuda/cuda_fft.cc:607] Unable to register cuFFT factory: Attempting to register factory for plugin cuFFT when one has already been registered\n",
      "2024-05-04 17:24:20.946000: E external/local_xla/xla/stream_executor/cuda/cuda_blas.cc:1515] Unable to register cuBLAS factory: Attempting to register factory for plugin cuBLAS when one has already been registered\n"
     ]
    }
   ],
   "source": [
    "from transformers import DataCollatorWithPadding\n",
    "\n",
    "data_collator = DataCollatorWithPadding(tokenizer=tokenizer)"
   ]
  },
  {
   "cell_type": "code",
   "execution_count": 13,
   "id": "3b9fd8c8",
   "metadata": {
    "execution": {
     "iopub.execute_input": "2024-05-04T17:24:28.386142Z",
     "iopub.status.busy": "2024-05-04T17:24:28.385553Z",
     "iopub.status.idle": "2024-05-04T17:24:28.390673Z",
     "shell.execute_reply": "2024-05-04T17:24:28.389825Z"
    },
    "papermill": {
     "duration": 0.013812,
     "end_time": "2024-05-04T17:24:28.392541",
     "exception": false,
     "start_time": "2024-05-04T17:24:28.378729",
     "status": "completed"
    },
    "tags": []
   },
   "outputs": [],
   "source": [
    "import numpy as np\n",
    "\n",
    "def compute_metrics(eval_pred):\n",
    "    predictions, labels = eval_pred\n",
    "    score = cohen_kappa_score(labels, predictions.argmax(-1), weights='quadratic')\n",
    "    return { 'quadratic weighted kappa':score }"
   ]
  },
  {
   "cell_type": "code",
   "execution_count": 14,
   "id": "03d68208",
   "metadata": {
    "execution": {
     "iopub.execute_input": "2024-05-04T17:24:28.404884Z",
     "iopub.status.busy": "2024-05-04T17:24:28.404638Z",
     "iopub.status.idle": "2024-05-04T17:24:33.117418Z",
     "shell.execute_reply": "2024-05-04T17:24:33.116240Z"
    },
    "papermill": {
     "duration": 4.72147,
     "end_time": "2024-05-04T17:24:33.119711",
     "exception": false,
     "start_time": "2024-05-04T17:24:28.398241",
     "status": "completed"
    },
    "tags": []
   },
   "outputs": [],
   "source": [
    "from transformers import AutoModelForSequenceClassification, TrainingArguments, Trainer\n",
    "\n",
    "model = AutoModelForSequenceClassification.from_pretrained(model_name, \n",
    "                                                           num_labels=6).to('cuda')"
   ]
  },
  {
   "cell_type": "code",
   "execution_count": 15,
   "id": "d22e76c9",
   "metadata": {
    "execution": {
     "iopub.execute_input": "2024-05-04T17:24:33.136496Z",
     "iopub.status.busy": "2024-05-04T17:24:33.135894Z",
     "iopub.status.idle": "2024-05-04T17:24:33.173070Z",
     "shell.execute_reply": "2024-05-04T17:24:33.172138Z"
    },
    "papermill": {
     "duration": 0.046579,
     "end_time": "2024-05-04T17:24:33.175125",
     "exception": false,
     "start_time": "2024-05-04T17:24:33.128546",
     "status": "completed"
    },
    "tags": []
   },
   "outputs": [
    {
     "name": "stderr",
     "output_type": "stream",
     "text": [
      "/opt/conda/lib/python3.10/site-packages/accelerate/accelerator.py:436: FutureWarning: Passing the following arguments to `Accelerator` is deprecated and will be removed in version 1.0 of Accelerate: dict_keys(['dispatch_batches', 'split_batches', 'even_batches', 'use_seedable_sampler']). Please pass an `accelerate.DataLoaderConfiguration` instead: \n",
      "dataloader_config = DataLoaderConfiguration(dispatch_batches=None, split_batches=False, even_batches=True, use_seedable_sampler=True)\n",
      "  warnings.warn(\n"
     ]
    }
   ],
   "source": [
    "eval_args = TrainingArguments(\n",
    "    \".\", \n",
    "    per_device_eval_batch_size=16, \n",
    "    report_to=\"none\"\n",
    ")\n",
    "\n",
    "trainer = Trainer(\n",
    "    model=model,\n",
    "    args=eval_args,\n",
    "    tokenizer=tokenizer,\n",
    "    data_collator=data_collator,\n",
    "    compute_metrics=compute_metrics,\n",
    ")"
   ]
  },
  {
   "cell_type": "code",
   "execution_count": 16,
   "id": "517481d9",
   "metadata": {
    "execution": {
     "iopub.execute_input": "2024-05-04T17:24:33.188110Z",
     "iopub.status.busy": "2024-05-04T17:24:33.187820Z",
     "iopub.status.idle": "2024-05-04T17:24:33.764685Z",
     "shell.execute_reply": "2024-05-04T17:24:33.763810Z"
    },
    "papermill": {
     "duration": 0.585555,
     "end_time": "2024-05-04T17:24:33.766654",
     "exception": false,
     "start_time": "2024-05-04T17:24:33.181099",
     "status": "completed"
    },
    "tags": []
   },
   "outputs": [
    {
     "data": {
      "text/html": [],
      "text/plain": [
       "<IPython.core.display.HTML object>"
      ]
     },
     "metadata": {},
     "output_type": "display_data"
    }
   ],
   "source": [
    "preds_test = trainer.predict(tokenized_test).predictions.argmax(-1)"
   ]
  },
  {
   "cell_type": "code",
   "execution_count": 17,
   "id": "be47afec",
   "metadata": {
    "execution": {
     "iopub.execute_input": "2024-05-04T17:24:33.780308Z",
     "iopub.status.busy": "2024-05-04T17:24:33.779752Z",
     "iopub.status.idle": "2024-05-04T17:24:33.793093Z",
     "shell.execute_reply": "2024-05-04T17:24:33.792179Z"
    },
    "papermill": {
     "duration": 0.022198,
     "end_time": "2024-05-04T17:24:33.795011",
     "exception": false,
     "start_time": "2024-05-04T17:24:33.772813",
     "status": "completed"
    },
    "tags": []
   },
   "outputs": [],
   "source": [
    "submission = pd.read_csv('/kaggle/input/learning-agency-lab-automated-essay-scoring-2/sample_submission.csv')\n",
    "submission[\"score\"] = preds_test\n",
    "submission[\"score\"] = le.inverse_transform(submission[\"score\"])\n",
    "submission.to_csv(\"submission.csv\", index=False)"
   ]
  }
 ],
 "metadata": {
  "kaggle": {
   "accelerator": "gpu",
   "dataSources": [
    {
     "databundleVersionId": 8059942,
     "sourceId": 71485,
     "sourceType": "competition"
    },
    {
     "sourceId": 175659004,
     "sourceType": "kernelVersion"
    }
   ],
   "dockerImageVersionId": 30699,
   "isGpuEnabled": true,
   "isInternetEnabled": false,
   "language": "python",
   "sourceType": "notebook"
  },
  "kernelspec": {
   "display_name": "Python 3",
   "language": "python",
   "name": "python3"
  },
  "language_info": {
   "codemirror_mode": {
    "name": "ipython",
    "version": 3
   },
   "file_extension": ".py",
   "mimetype": "text/x-python",
   "name": "python",
   "nbconvert_exporter": "python",
   "pygments_lexer": "ipython3",
   "version": "3.10.13"
  },
  "papermill": {
   "default_parameters": {},
   "duration": 32.130219,
   "end_time": "2024-05-04T17:24:36.544745",
   "environment_variables": {},
   "exception": null,
   "input_path": "__notebook__.ipynb",
   "output_path": "__notebook__.ipynb",
   "parameters": {},
   "start_time": "2024-05-04T17:24:04.414526",
   "version": "2.5.0"
  },
  "widgets": {
   "application/vnd.jupyter.widget-state+json": {
    "state": {
     "061151976dac441e871180988ee47e78": {
      "model_module": "@jupyter-widgets/controls",
      "model_module_version": "1.5.0",
      "model_name": "HBoxModel",
      "state": {
       "_dom_classes": [],
       "_model_module": "@jupyter-widgets/controls",
       "_model_module_version": "1.5.0",
       "_model_name": "HBoxModel",
       "_view_count": null,
       "_view_module": "@jupyter-widgets/controls",
       "_view_module_version": "1.5.0",
       "_view_name": "HBoxView",
       "box_style": "",
       "children": [
        "IPY_MODEL_6ae0027d3d5e404d8bb30c2d77e2289b",
        "IPY_MODEL_c8d2de8c6de546d1825040883049d36a",
        "IPY_MODEL_c646acc5e31a4508b90d08ac5af88c4f"
       ],
       "layout": "IPY_MODEL_c8166d7899ad47edb195365fb661b67e"
      }
     },
     "0e5cadc1e05d4e7e9fed99946834eb4f": {
      "model_module": "@jupyter-widgets/controls",
      "model_module_version": "1.5.0",
      "model_name": "DescriptionStyleModel",
      "state": {
       "_model_module": "@jupyter-widgets/controls",
       "_model_module_version": "1.5.0",
       "_model_name": "DescriptionStyleModel",
       "_view_count": null,
       "_view_module": "@jupyter-widgets/base",
       "_view_module_version": "1.2.0",
       "_view_name": "StyleView",
       "description_width": ""
      }
     },
     "224ccd3d997a476799caa111ba8d91c5": {
      "model_module": "@jupyter-widgets/base",
      "model_module_version": "1.2.0",
      "model_name": "LayoutModel",
      "state": {
       "_model_module": "@jupyter-widgets/base",
       "_model_module_version": "1.2.0",
       "_model_name": "LayoutModel",
       "_view_count": null,
       "_view_module": "@jupyter-widgets/base",
       "_view_module_version": "1.2.0",
       "_view_name": "LayoutView",
       "align_content": null,
       "align_items": null,
       "align_self": null,
       "border": null,
       "bottom": null,
       "display": null,
       "flex": null,
       "flex_flow": null,
       "grid_area": null,
       "grid_auto_columns": null,
       "grid_auto_flow": null,
       "grid_auto_rows": null,
       "grid_column": null,
       "grid_gap": null,
       "grid_row": null,
       "grid_template_areas": null,
       "grid_template_columns": null,
       "grid_template_rows": null,
       "height": null,
       "justify_content": null,
       "justify_items": null,
       "left": null,
       "margin": null,
       "max_height": null,
       "max_width": null,
       "min_height": null,
       "min_width": null,
       "object_fit": null,
       "object_position": null,
       "order": null,
       "overflow": null,
       "overflow_x": null,
       "overflow_y": null,
       "padding": null,
       "right": null,
       "top": null,
       "visibility": null,
       "width": null
      }
     },
     "3c98a8b9580044ee9379553f3f0dbc04": {
      "model_module": "@jupyter-widgets/controls",
      "model_module_version": "1.5.0",
      "model_name": "HBoxModel",
      "state": {
       "_dom_classes": [],
       "_model_module": "@jupyter-widgets/controls",
       "_model_module_version": "1.5.0",
       "_model_name": "HBoxModel",
       "_view_count": null,
       "_view_module": "@jupyter-widgets/controls",
       "_view_module_version": "1.5.0",
       "_view_name": "HBoxView",
       "box_style": "",
       "children": [
        "IPY_MODEL_70a01c668a6742c79d27512d1cd3d179",
        "IPY_MODEL_f1127a77159f436f9e4b93163f83929c",
        "IPY_MODEL_69669028b1d145f685c7733e23a9592f"
       ],
       "layout": "IPY_MODEL_66fb3a323f1b4ca98108ea0418d2fff5"
      }
     },
     "3f7ddb426525486aa1e9a08bf9f5eb33": {
      "model_module": "@jupyter-widgets/base",
      "model_module_version": "1.2.0",
      "model_name": "LayoutModel",
      "state": {
       "_model_module": "@jupyter-widgets/base",
       "_model_module_version": "1.2.0",
       "_model_name": "LayoutModel",
       "_view_count": null,
       "_view_module": "@jupyter-widgets/base",
       "_view_module_version": "1.2.0",
       "_view_name": "LayoutView",
       "align_content": null,
       "align_items": null,
       "align_self": null,
       "border": null,
       "bottom": null,
       "display": null,
       "flex": null,
       "flex_flow": null,
       "grid_area": null,
       "grid_auto_columns": null,
       "grid_auto_flow": null,
       "grid_auto_rows": null,
       "grid_column": null,
       "grid_gap": null,
       "grid_row": null,
       "grid_template_areas": null,
       "grid_template_columns": null,
       "grid_template_rows": null,
       "height": null,
       "justify_content": null,
       "justify_items": null,
       "left": null,
       "margin": null,
       "max_height": null,
       "max_width": null,
       "min_height": null,
       "min_width": null,
       "object_fit": null,
       "object_position": null,
       "order": null,
       "overflow": null,
       "overflow_x": null,
       "overflow_y": null,
       "padding": null,
       "right": null,
       "top": null,
       "visibility": null,
       "width": null
      }
     },
     "412060bec6d74ff099dceeb2f194215a": {
      "model_module": "@jupyter-widgets/controls",
      "model_module_version": "1.5.0",
      "model_name": "DescriptionStyleModel",
      "state": {
       "_model_module": "@jupyter-widgets/controls",
       "_model_module_version": "1.5.0",
       "_model_name": "DescriptionStyleModel",
       "_view_count": null,
       "_view_module": "@jupyter-widgets/base",
       "_view_module_version": "1.2.0",
       "_view_name": "StyleView",
       "description_width": ""
      }
     },
     "4653ab161311400eb0f7e6b3073fe297": {
      "model_module": "@jupyter-widgets/controls",
      "model_module_version": "1.5.0",
      "model_name": "ProgressStyleModel",
      "state": {
       "_model_module": "@jupyter-widgets/controls",
       "_model_module_version": "1.5.0",
       "_model_name": "ProgressStyleModel",
       "_view_count": null,
       "_view_module": "@jupyter-widgets/base",
       "_view_module_version": "1.2.0",
       "_view_name": "StyleView",
       "bar_color": null,
       "description_width": ""
      }
     },
     "57f28fbc254148f2b342677dd4a4a1be": {
      "model_module": "@jupyter-widgets/base",
      "model_module_version": "1.2.0",
      "model_name": "LayoutModel",
      "state": {
       "_model_module": "@jupyter-widgets/base",
       "_model_module_version": "1.2.0",
       "_model_name": "LayoutModel",
       "_view_count": null,
       "_view_module": "@jupyter-widgets/base",
       "_view_module_version": "1.2.0",
       "_view_name": "LayoutView",
       "align_content": null,
       "align_items": null,
       "align_self": null,
       "border": null,
       "bottom": null,
       "display": null,
       "flex": null,
       "flex_flow": null,
       "grid_area": null,
       "grid_auto_columns": null,
       "grid_auto_flow": null,
       "grid_auto_rows": null,
       "grid_column": null,
       "grid_gap": null,
       "grid_row": null,
       "grid_template_areas": null,
       "grid_template_columns": null,
       "grid_template_rows": null,
       "height": null,
       "justify_content": null,
       "justify_items": null,
       "left": null,
       "margin": null,
       "max_height": null,
       "max_width": null,
       "min_height": null,
       "min_width": null,
       "object_fit": null,
       "object_position": null,
       "order": null,
       "overflow": null,
       "overflow_x": null,
       "overflow_y": null,
       "padding": null,
       "right": null,
       "top": null,
       "visibility": null,
       "width": null
      }
     },
     "66fb3a323f1b4ca98108ea0418d2fff5": {
      "model_module": "@jupyter-widgets/base",
      "model_module_version": "1.2.0",
      "model_name": "LayoutModel",
      "state": {
       "_model_module": "@jupyter-widgets/base",
       "_model_module_version": "1.2.0",
       "_model_name": "LayoutModel",
       "_view_count": null,
       "_view_module": "@jupyter-widgets/base",
       "_view_module_version": "1.2.0",
       "_view_name": "LayoutView",
       "align_content": null,
       "align_items": null,
       "align_self": null,
       "border": null,
       "bottom": null,
       "display": null,
       "flex": null,
       "flex_flow": null,
       "grid_area": null,
       "grid_auto_columns": null,
       "grid_auto_flow": null,
       "grid_auto_rows": null,
       "grid_column": null,
       "grid_gap": null,
       "grid_row": null,
       "grid_template_areas": null,
       "grid_template_columns": null,
       "grid_template_rows": null,
       "height": null,
       "justify_content": null,
       "justify_items": null,
       "left": null,
       "margin": null,
       "max_height": null,
       "max_width": null,
       "min_height": null,
       "min_width": null,
       "object_fit": null,
       "object_position": null,
       "order": null,
       "overflow": null,
       "overflow_x": null,
       "overflow_y": null,
       "padding": null,
       "right": null,
       "top": null,
       "visibility": null,
       "width": null
      }
     },
     "69669028b1d145f685c7733e23a9592f": {
      "model_module": "@jupyter-widgets/controls",
      "model_module_version": "1.5.0",
      "model_name": "HTMLModel",
      "state": {
       "_dom_classes": [],
       "_model_module": "@jupyter-widgets/controls",
       "_model_module_version": "1.5.0",
       "_model_name": "HTMLModel",
       "_view_count": null,
       "_view_module": "@jupyter-widgets/controls",
       "_view_module_version": "1.5.0",
       "_view_name": "HTMLView",
       "description": "",
       "description_tooltip": null,
       "layout": "IPY_MODEL_57f28fbc254148f2b342677dd4a4a1be",
       "placeholder": "​",
       "style": "IPY_MODEL_896b516b730b4282bd83ef8c189c55c0",
       "value": " 3462/3462 [00:02&lt;00:00, 1475.83 examples/s]"
      }
     },
     "6ae0027d3d5e404d8bb30c2d77e2289b": {
      "model_module": "@jupyter-widgets/controls",
      "model_module_version": "1.5.0",
      "model_name": "HTMLModel",
      "state": {
       "_dom_classes": [],
       "_model_module": "@jupyter-widgets/controls",
       "_model_module_version": "1.5.0",
       "_model_name": "HTMLModel",
       "_view_count": null,
       "_view_module": "@jupyter-widgets/controls",
       "_view_module_version": "1.5.0",
       "_view_name": "HTMLView",
       "description": "",
       "description_tooltip": null,
       "layout": "IPY_MODEL_3f7ddb426525486aa1e9a08bf9f5eb33",
       "placeholder": "​",
       "style": "IPY_MODEL_0e5cadc1e05d4e7e9fed99946834eb4f",
       "value": "Map: 100%"
      }
     },
     "70a01c668a6742c79d27512d1cd3d179": {
      "model_module": "@jupyter-widgets/controls",
      "model_module_version": "1.5.0",
      "model_name": "HTMLModel",
      "state": {
       "_dom_classes": [],
       "_model_module": "@jupyter-widgets/controls",
       "_model_module_version": "1.5.0",
       "_model_name": "HTMLModel",
       "_view_count": null,
       "_view_module": "@jupyter-widgets/controls",
       "_view_module_version": "1.5.0",
       "_view_name": "HTMLView",
       "description": "",
       "description_tooltip": null,
       "layout": "IPY_MODEL_c6ba5a673aa4420eb0bbfd6ac304b062",
       "placeholder": "​",
       "style": "IPY_MODEL_b89534d240e244fc818db42d98b83a23",
       "value": "Map: 100%"
      }
     },
     "896b516b730b4282bd83ef8c189c55c0": {
      "model_module": "@jupyter-widgets/controls",
      "model_module_version": "1.5.0",
      "model_name": "DescriptionStyleModel",
      "state": {
       "_model_module": "@jupyter-widgets/controls",
       "_model_module_version": "1.5.0",
       "_model_name": "DescriptionStyleModel",
       "_view_count": null,
       "_view_module": "@jupyter-widgets/base",
       "_view_module_version": "1.2.0",
       "_view_name": "StyleView",
       "description_width": ""
      }
     },
     "b89534d240e244fc818db42d98b83a23": {
      "model_module": "@jupyter-widgets/controls",
      "model_module_version": "1.5.0",
      "model_name": "DescriptionStyleModel",
      "state": {
       "_model_module": "@jupyter-widgets/controls",
       "_model_module_version": "1.5.0",
       "_model_name": "DescriptionStyleModel",
       "_view_count": null,
       "_view_module": "@jupyter-widgets/base",
       "_view_module_version": "1.2.0",
       "_view_name": "StyleView",
       "description_width": ""
      }
     },
     "c646acc5e31a4508b90d08ac5af88c4f": {
      "model_module": "@jupyter-widgets/controls",
      "model_module_version": "1.5.0",
      "model_name": "HTMLModel",
      "state": {
       "_dom_classes": [],
       "_model_module": "@jupyter-widgets/controls",
       "_model_module_version": "1.5.0",
       "_model_name": "HTMLModel",
       "_view_count": null,
       "_view_module": "@jupyter-widgets/controls",
       "_view_module_version": "1.5.0",
       "_view_name": "HTMLView",
       "description": "",
       "description_tooltip": null,
       "layout": "IPY_MODEL_e16cd7645c9947f1a6cd15bd20004ccd",
       "placeholder": "​",
       "style": "IPY_MODEL_412060bec6d74ff099dceeb2f194215a",
       "value": " 3/3 [00:00&lt;00:00, 134.86 examples/s]"
      }
     },
     "c6ba5a673aa4420eb0bbfd6ac304b062": {
      "model_module": "@jupyter-widgets/base",
      "model_module_version": "1.2.0",
      "model_name": "LayoutModel",
      "state": {
       "_model_module": "@jupyter-widgets/base",
       "_model_module_version": "1.2.0",
       "_model_name": "LayoutModel",
       "_view_count": null,
       "_view_module": "@jupyter-widgets/base",
       "_view_module_version": "1.2.0",
       "_view_name": "LayoutView",
       "align_content": null,
       "align_items": null,
       "align_self": null,
       "border": null,
       "bottom": null,
       "display": null,
       "flex": null,
       "flex_flow": null,
       "grid_area": null,
       "grid_auto_columns": null,
       "grid_auto_flow": null,
       "grid_auto_rows": null,
       "grid_column": null,
       "grid_gap": null,
       "grid_row": null,
       "grid_template_areas": null,
       "grid_template_columns": null,
       "grid_template_rows": null,
       "height": null,
       "justify_content": null,
       "justify_items": null,
       "left": null,
       "margin": null,
       "max_height": null,
       "max_width": null,
       "min_height": null,
       "min_width": null,
       "object_fit": null,
       "object_position": null,
       "order": null,
       "overflow": null,
       "overflow_x": null,
       "overflow_y": null,
       "padding": null,
       "right": null,
       "top": null,
       "visibility": null,
       "width": null
      }
     },
     "c8166d7899ad47edb195365fb661b67e": {
      "model_module": "@jupyter-widgets/base",
      "model_module_version": "1.2.0",
      "model_name": "LayoutModel",
      "state": {
       "_model_module": "@jupyter-widgets/base",
       "_model_module_version": "1.2.0",
       "_model_name": "LayoutModel",
       "_view_count": null,
       "_view_module": "@jupyter-widgets/base",
       "_view_module_version": "1.2.0",
       "_view_name": "LayoutView",
       "align_content": null,
       "align_items": null,
       "align_self": null,
       "border": null,
       "bottom": null,
       "display": null,
       "flex": null,
       "flex_flow": null,
       "grid_area": null,
       "grid_auto_columns": null,
       "grid_auto_flow": null,
       "grid_auto_rows": null,
       "grid_column": null,
       "grid_gap": null,
       "grid_row": null,
       "grid_template_areas": null,
       "grid_template_columns": null,
       "grid_template_rows": null,
       "height": null,
       "justify_content": null,
       "justify_items": null,
       "left": null,
       "margin": null,
       "max_height": null,
       "max_width": null,
       "min_height": null,
       "min_width": null,
       "object_fit": null,
       "object_position": null,
       "order": null,
       "overflow": null,
       "overflow_x": null,
       "overflow_y": null,
       "padding": null,
       "right": null,
       "top": null,
       "visibility": null,
       "width": null
      }
     },
     "c8799d6ebb434c09968d34511811b27e": {
      "model_module": "@jupyter-widgets/controls",
      "model_module_version": "1.5.0",
      "model_name": "ProgressStyleModel",
      "state": {
       "_model_module": "@jupyter-widgets/controls",
       "_model_module_version": "1.5.0",
       "_model_name": "ProgressStyleModel",
       "_view_count": null,
       "_view_module": "@jupyter-widgets/base",
       "_view_module_version": "1.2.0",
       "_view_name": "StyleView",
       "bar_color": null,
       "description_width": ""
      }
     },
     "c8d2de8c6de546d1825040883049d36a": {
      "model_module": "@jupyter-widgets/controls",
      "model_module_version": "1.5.0",
      "model_name": "FloatProgressModel",
      "state": {
       "_dom_classes": [],
       "_model_module": "@jupyter-widgets/controls",
       "_model_module_version": "1.5.0",
       "_model_name": "FloatProgressModel",
       "_view_count": null,
       "_view_module": "@jupyter-widgets/controls",
       "_view_module_version": "1.5.0",
       "_view_name": "ProgressView",
       "bar_style": "success",
       "description": "",
       "description_tooltip": null,
       "layout": "IPY_MODEL_224ccd3d997a476799caa111ba8d91c5",
       "max": 3.0,
       "min": 0.0,
       "orientation": "horizontal",
       "style": "IPY_MODEL_c8799d6ebb434c09968d34511811b27e",
       "value": 3.0
      }
     },
     "e16cd7645c9947f1a6cd15bd20004ccd": {
      "model_module": "@jupyter-widgets/base",
      "model_module_version": "1.2.0",
      "model_name": "LayoutModel",
      "state": {
       "_model_module": "@jupyter-widgets/base",
       "_model_module_version": "1.2.0",
       "_model_name": "LayoutModel",
       "_view_count": null,
       "_view_module": "@jupyter-widgets/base",
       "_view_module_version": "1.2.0",
       "_view_name": "LayoutView",
       "align_content": null,
       "align_items": null,
       "align_self": null,
       "border": null,
       "bottom": null,
       "display": null,
       "flex": null,
       "flex_flow": null,
       "grid_area": null,
       "grid_auto_columns": null,
       "grid_auto_flow": null,
       "grid_auto_rows": null,
       "grid_column": null,
       "grid_gap": null,
       "grid_row": null,
       "grid_template_areas": null,
       "grid_template_columns": null,
       "grid_template_rows": null,
       "height": null,
       "justify_content": null,
       "justify_items": null,
       "left": null,
       "margin": null,
       "max_height": null,
       "max_width": null,
       "min_height": null,
       "min_width": null,
       "object_fit": null,
       "object_position": null,
       "order": null,
       "overflow": null,
       "overflow_x": null,
       "overflow_y": null,
       "padding": null,
       "right": null,
       "top": null,
       "visibility": null,
       "width": null
      }
     },
     "f1127a77159f436f9e4b93163f83929c": {
      "model_module": "@jupyter-widgets/controls",
      "model_module_version": "1.5.0",
      "model_name": "FloatProgressModel",
      "state": {
       "_dom_classes": [],
       "_model_module": "@jupyter-widgets/controls",
       "_model_module_version": "1.5.0",
       "_model_name": "FloatProgressModel",
       "_view_count": null,
       "_view_module": "@jupyter-widgets/controls",
       "_view_module_version": "1.5.0",
       "_view_name": "ProgressView",
       "bar_style": "success",
       "description": "",
       "description_tooltip": null,
       "layout": "IPY_MODEL_f2400f2d2fc7451eb599c5e8c036635a",
       "max": 3462.0,
       "min": 0.0,
       "orientation": "horizontal",
       "style": "IPY_MODEL_4653ab161311400eb0f7e6b3073fe297",
       "value": 3462.0
      }
     },
     "f2400f2d2fc7451eb599c5e8c036635a": {
      "model_module": "@jupyter-widgets/base",
      "model_module_version": "1.2.0",
      "model_name": "LayoutModel",
      "state": {
       "_model_module": "@jupyter-widgets/base",
       "_model_module_version": "1.2.0",
       "_model_name": "LayoutModel",
       "_view_count": null,
       "_view_module": "@jupyter-widgets/base",
       "_view_module_version": "1.2.0",
       "_view_name": "LayoutView",
       "align_content": null,
       "align_items": null,
       "align_self": null,
       "border": null,
       "bottom": null,
       "display": null,
       "flex": null,
       "flex_flow": null,
       "grid_area": null,
       "grid_auto_columns": null,
       "grid_auto_flow": null,
       "grid_auto_rows": null,
       "grid_column": null,
       "grid_gap": null,
       "grid_row": null,
       "grid_template_areas": null,
       "grid_template_columns": null,
       "grid_template_rows": null,
       "height": null,
       "justify_content": null,
       "justify_items": null,
       "left": null,
       "margin": null,
       "max_height": null,
       "max_width": null,
       "min_height": null,
       "min_width": null,
       "object_fit": null,
       "object_position": null,
       "order": null,
       "overflow": null,
       "overflow_x": null,
       "overflow_y": null,
       "padding": null,
       "right": null,
       "top": null,
       "visibility": null,
       "width": null
      }
     }
    },
    "version_major": 2,
    "version_minor": 0
   }
  }
 },
 "nbformat": 4,
 "nbformat_minor": 5
}

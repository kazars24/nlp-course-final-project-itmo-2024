{
 "cells": [
  {
   "cell_type": "code",
   "execution_count": 1,
   "id": "9699eb83",
   "metadata": {
    "execution": {
     "iopub.execute_input": "2024-05-02T18:10:52.750666Z",
     "iopub.status.busy": "2024-05-02T18:10:52.750251Z",
     "iopub.status.idle": "2024-05-02T18:10:56.914039Z",
     "shell.execute_reply": "2024-05-02T18:10:56.911960Z"
    },
    "papermill": {
     "duration": 4.175537,
     "end_time": "2024-05-02T18:10:56.917776",
     "exception": false,
     "start_time": "2024-05-02T18:10:52.742239",
     "status": "completed"
    },
    "tags": []
   },
   "outputs": [],
   "source": [
    "import pandas as pd\n",
    "import numpy as np\n",
    "import nltk\n",
    "from sklearn.linear_model import LogisticRegression\n",
    "from sklearn.feature_extraction.text import TfidfVectorizer\n",
    "from sklearn.preprocessing import LabelEncoder\n",
    "from sklearn.model_selection import train_test_split\n",
    "from sklearn.metrics import f1_score"
   ]
  },
  {
   "cell_type": "code",
   "execution_count": 2,
   "id": "bb640945",
   "metadata": {
    "execution": {
     "iopub.execute_input": "2024-05-02T18:10:56.931892Z",
     "iopub.status.busy": "2024-05-02T18:10:56.931250Z",
     "iopub.status.idle": "2024-05-02T18:10:58.036719Z",
     "shell.execute_reply": "2024-05-02T18:10:58.034399Z"
    },
    "papermill": {
     "duration": 1.116099,
     "end_time": "2024-05-02T18:10:58.039888",
     "exception": false,
     "start_time": "2024-05-02T18:10:56.923789",
     "status": "completed"
    },
    "tags": []
   },
   "outputs": [
    {
     "data": {
      "text/html": [
       "<div>\n",
       "<style scoped>\n",
       "    .dataframe tbody tr th:only-of-type {\n",
       "        vertical-align: middle;\n",
       "    }\n",
       "\n",
       "    .dataframe tbody tr th {\n",
       "        vertical-align: top;\n",
       "    }\n",
       "\n",
       "    .dataframe thead th {\n",
       "        text-align: right;\n",
       "    }\n",
       "</style>\n",
       "<table border=\"1\" class=\"dataframe\">\n",
       "  <thead>\n",
       "    <tr style=\"text-align: right;\">\n",
       "      <th></th>\n",
       "      <th>essay_id</th>\n",
       "      <th>full_text</th>\n",
       "      <th>score</th>\n",
       "    </tr>\n",
       "  </thead>\n",
       "  <tbody>\n",
       "    <tr>\n",
       "      <th>0</th>\n",
       "      <td>000d118</td>\n",
       "      <td>Many people have car where they live. The thin...</td>\n",
       "      <td>3</td>\n",
       "    </tr>\n",
       "    <tr>\n",
       "      <th>1</th>\n",
       "      <td>000fe60</td>\n",
       "      <td>I am a scientist at NASA that is discussing th...</td>\n",
       "      <td>3</td>\n",
       "    </tr>\n",
       "    <tr>\n",
       "      <th>2</th>\n",
       "      <td>001ab80</td>\n",
       "      <td>People always wish they had the same technolog...</td>\n",
       "      <td>4</td>\n",
       "    </tr>\n",
       "    <tr>\n",
       "      <th>3</th>\n",
       "      <td>001bdc0</td>\n",
       "      <td>We all heard about Venus, the planet without a...</td>\n",
       "      <td>4</td>\n",
       "    </tr>\n",
       "    <tr>\n",
       "      <th>4</th>\n",
       "      <td>002ba53</td>\n",
       "      <td>Dear, State Senator\\n\\nThis is a letter to arg...</td>\n",
       "      <td>3</td>\n",
       "    </tr>\n",
       "  </tbody>\n",
       "</table>\n",
       "</div>"
      ],
      "text/plain": [
       "  essay_id                                          full_text  score\n",
       "0  000d118  Many people have car where they live. The thin...      3\n",
       "1  000fe60  I am a scientist at NASA that is discussing th...      3\n",
       "2  001ab80  People always wish they had the same technolog...      4\n",
       "3  001bdc0  We all heard about Venus, the planet without a...      4\n",
       "4  002ba53  Dear, State Senator\\n\\nThis is a letter to arg...      3"
      ]
     },
     "metadata": {},
     "output_type": "display_data"
    },
    {
     "data": {
      "text/html": [
       "<div>\n",
       "<style scoped>\n",
       "    .dataframe tbody tr th:only-of-type {\n",
       "        vertical-align: middle;\n",
       "    }\n",
       "\n",
       "    .dataframe tbody tr th {\n",
       "        vertical-align: top;\n",
       "    }\n",
       "\n",
       "    .dataframe thead th {\n",
       "        text-align: right;\n",
       "    }\n",
       "</style>\n",
       "<table border=\"1\" class=\"dataframe\">\n",
       "  <thead>\n",
       "    <tr style=\"text-align: right;\">\n",
       "      <th></th>\n",
       "      <th>essay_id</th>\n",
       "      <th>full_text</th>\n",
       "    </tr>\n",
       "  </thead>\n",
       "  <tbody>\n",
       "    <tr>\n",
       "      <th>0</th>\n",
       "      <td>000d118</td>\n",
       "      <td>Many people have car where they live. The thin...</td>\n",
       "    </tr>\n",
       "    <tr>\n",
       "      <th>1</th>\n",
       "      <td>000fe60</td>\n",
       "      <td>I am a scientist at NASA that is discussing th...</td>\n",
       "    </tr>\n",
       "    <tr>\n",
       "      <th>2</th>\n",
       "      <td>001ab80</td>\n",
       "      <td>People always wish they had the same technolog...</td>\n",
       "    </tr>\n",
       "  </tbody>\n",
       "</table>\n",
       "</div>"
      ],
      "text/plain": [
       "  essay_id                                          full_text\n",
       "0  000d118  Many people have car where they live. The thin...\n",
       "1  000fe60  I am a scientist at NASA that is discussing th...\n",
       "2  001ab80  People always wish they had the same technolog..."
      ]
     },
     "metadata": {},
     "output_type": "display_data"
    }
   ],
   "source": [
    "df = pd.read_csv('/kaggle/input/learning-agency-lab-automated-essay-scoring-2/train.csv')\n",
    "test_df = pd.read_csv('/kaggle/input/learning-agency-lab-automated-essay-scoring-2/test.csv')\n",
    "display(df.head())\n",
    "display(test_df.head())"
   ]
  },
  {
   "cell_type": "code",
   "execution_count": 3,
   "id": "26eab629",
   "metadata": {
    "execution": {
     "iopub.execute_input": "2024-05-02T18:10:58.054329Z",
     "iopub.status.busy": "2024-05-02T18:10:58.053825Z",
     "iopub.status.idle": "2024-05-02T18:10:58.072274Z",
     "shell.execute_reply": "2024-05-02T18:10:58.071000Z"
    },
    "papermill": {
     "duration": 0.029347,
     "end_time": "2024-05-02T18:10:58.075402",
     "exception": false,
     "start_time": "2024-05-02T18:10:58.046055",
     "status": "completed"
    },
    "tags": []
   },
   "outputs": [],
   "source": [
    "df = df.drop('essay_id', axis=1)\n",
    "test_df = test_df.drop('essay_id', axis=1)"
   ]
  },
  {
   "cell_type": "code",
   "execution_count": 4,
   "id": "20ce9f00",
   "metadata": {
    "execution": {
     "iopub.execute_input": "2024-05-02T18:10:58.088837Z",
     "iopub.status.busy": "2024-05-02T18:10:58.088232Z",
     "iopub.status.idle": "2024-05-02T18:10:58.099737Z",
     "shell.execute_reply": "2024-05-02T18:10:58.098280Z"
    },
    "papermill": {
     "duration": 0.021747,
     "end_time": "2024-05-02T18:10:58.103028",
     "exception": false,
     "start_time": "2024-05-02T18:10:58.081281",
     "status": "completed"
    },
    "tags": []
   },
   "outputs": [],
   "source": [
    "le = LabelEncoder()\n",
    "df['score'] = le.fit_transform(df['score'])"
   ]
  },
  {
   "cell_type": "code",
   "execution_count": 5,
   "id": "98d9db3e",
   "metadata": {
    "execution": {
     "iopub.execute_input": "2024-05-02T18:10:58.115782Z",
     "iopub.status.busy": "2024-05-02T18:10:58.115347Z",
     "iopub.status.idle": "2024-05-02T18:10:58.137704Z",
     "shell.execute_reply": "2024-05-02T18:10:58.136120Z"
    },
    "papermill": {
     "duration": 0.032623,
     "end_time": "2024-05-02T18:10:58.141025",
     "exception": false,
     "start_time": "2024-05-02T18:10:58.108402",
     "status": "completed"
    },
    "tags": []
   },
   "outputs": [],
   "source": [
    "train_split, val_split = train_test_split(df, test_size=0.2, random_state=52, stratify=df['score'])"
   ]
  },
  {
   "cell_type": "code",
   "execution_count": 6,
   "id": "d5e44312",
   "metadata": {
    "execution": {
     "iopub.execute_input": "2024-05-02T18:10:58.154358Z",
     "iopub.status.busy": "2024-05-02T18:10:58.153960Z",
     "iopub.status.idle": "2024-05-02T18:11:36.846762Z",
     "shell.execute_reply": "2024-05-02T18:11:36.845204Z"
    },
    "papermill": {
     "duration": 38.70492,
     "end_time": "2024-05-02T18:11:36.851511",
     "exception": false,
     "start_time": "2024-05-02T18:10:58.146591",
     "status": "completed"
    },
    "tags": []
   },
   "outputs": [],
   "source": [
    "stopwords = nltk.corpus.stopwords.words(\"english\")\n",
    "\n",
    "# Init tf-idf\n",
    "vect_word = TfidfVectorizer(\n",
    "    max_features=100,\n",
    "    lowercase=True,\n",
    "    analyzer=\"word\",\n",
    "    stop_words=stopwords,\n",
    "    ngram_range=(1, 3),\n",
    "    dtype=np.float32\n",
    ")\n",
    "\n",
    "# Train tf-idf\n",
    "X_train = vect_word.fit_transform(train_split[\"full_text\"])\n",
    "X_val = vect_word.transform(val_split[\"full_text\"])\n",
    "X_test = vect_word.transform(test_df[\"full_text\"])\n",
    "\n",
    "y_train = train_split[\"score\"]\n",
    "y_val = val_split[\"score\"]"
   ]
  },
  {
   "cell_type": "code",
   "execution_count": 7,
   "id": "70f24e60",
   "metadata": {
    "execution": {
     "iopub.execute_input": "2024-05-02T18:11:36.866874Z",
     "iopub.status.busy": "2024-05-02T18:11:36.866287Z",
     "iopub.status.idle": "2024-05-02T18:11:37.814849Z",
     "shell.execute_reply": "2024-05-02T18:11:37.813551Z"
    },
    "papermill": {
     "duration": 0.960139,
     "end_time": "2024-05-02T18:11:37.818690",
     "exception": false,
     "start_time": "2024-05-02T18:11:36.858551",
     "status": "completed"
    },
    "tags": []
   },
   "outputs": [
    {
     "name": "stderr",
     "output_type": "stream",
     "text": [
      "/opt/conda/lib/python3.10/site-packages/sklearn/linear_model/_logistic.py:458: ConvergenceWarning: lbfgs failed to converge (status=1):\n",
      "STOP: TOTAL NO. of ITERATIONS REACHED LIMIT.\n",
      "\n",
      "Increase the number of iterations (max_iter) or scale the data as shown in:\n",
      "    https://scikit-learn.org/stable/modules/preprocessing.html\n",
      "Please also refer to the documentation for alternative solver options:\n",
      "    https://scikit-learn.org/stable/modules/linear_model.html#logistic-regression\n",
      "  n_iter_i = _check_optimize_result(\n"
     ]
    }
   ],
   "source": [
    "# Init logreg model\n",
    "logreg = LogisticRegression(C=2, random_state=33)\n",
    "logreg.fit(X_train, y_train)\n",
    "preds_val = logreg.predict(X_val)"
   ]
  },
  {
   "cell_type": "code",
   "execution_count": 8,
   "id": "e5d4dd87",
   "metadata": {
    "execution": {
     "iopub.execute_input": "2024-05-02T18:11:37.832975Z",
     "iopub.status.busy": "2024-05-02T18:11:37.831742Z",
     "iopub.status.idle": "2024-05-02T18:11:37.846026Z",
     "shell.execute_reply": "2024-05-02T18:11:37.844125Z"
    },
    "papermill": {
     "duration": 0.025654,
     "end_time": "2024-05-02T18:11:37.850174",
     "exception": false,
     "start_time": "2024-05-02T18:11:37.824520",
     "status": "completed"
    },
    "tags": []
   },
   "outputs": [
    {
     "data": {
      "text/plain": [
       "0.4345167974515829"
      ]
     },
     "execution_count": 8,
     "metadata": {},
     "output_type": "execute_result"
    }
   ],
   "source": [
    "from sklearn.metrics import cohen_kappa_score\n",
    "\n",
    "cohen_kappa_score(y_val, preds_val, weights='quadratic')"
   ]
  },
  {
   "cell_type": "code",
   "execution_count": 9,
   "id": "5a13f83b",
   "metadata": {
    "execution": {
     "iopub.execute_input": "2024-05-02T18:11:37.866332Z",
     "iopub.status.busy": "2024-05-02T18:11:37.865917Z",
     "iopub.status.idle": "2024-05-02T18:11:37.891847Z",
     "shell.execute_reply": "2024-05-02T18:11:37.889173Z"
    },
    "papermill": {
     "duration": 0.038899,
     "end_time": "2024-05-02T18:11:37.896335",
     "exception": false,
     "start_time": "2024-05-02T18:11:37.857436",
     "status": "completed"
    },
    "tags": []
   },
   "outputs": [
    {
     "data": {
      "text/html": [
       "<div>\n",
       "<style scoped>\n",
       "    .dataframe tbody tr th:only-of-type {\n",
       "        vertical-align: middle;\n",
       "    }\n",
       "\n",
       "    .dataframe tbody tr th {\n",
       "        vertical-align: top;\n",
       "    }\n",
       "\n",
       "    .dataframe thead th {\n",
       "        text-align: right;\n",
       "    }\n",
       "</style>\n",
       "<table border=\"1\" class=\"dataframe\">\n",
       "  <thead>\n",
       "    <tr style=\"text-align: right;\">\n",
       "      <th></th>\n",
       "      <th>essay_id</th>\n",
       "      <th>score</th>\n",
       "    </tr>\n",
       "  </thead>\n",
       "  <tbody>\n",
       "    <tr>\n",
       "      <th>0</th>\n",
       "      <td>000d118</td>\n",
       "      <td>3</td>\n",
       "    </tr>\n",
       "    <tr>\n",
       "      <th>1</th>\n",
       "      <td>000fe60</td>\n",
       "      <td>3</td>\n",
       "    </tr>\n",
       "    <tr>\n",
       "      <th>2</th>\n",
       "      <td>001ab80</td>\n",
       "      <td>4</td>\n",
       "    </tr>\n",
       "  </tbody>\n",
       "</table>\n",
       "</div>"
      ],
      "text/plain": [
       "  essay_id  score\n",
       "0  000d118      3\n",
       "1  000fe60      3\n",
       "2  001ab80      4"
      ]
     },
     "execution_count": 9,
     "metadata": {},
     "output_type": "execute_result"
    }
   ],
   "source": [
    "submission = pd.read_csv('/kaggle/input/learning-agency-lab-automated-essay-scoring-2/sample_submission.csv')\n",
    "submission.head()"
   ]
  },
  {
   "cell_type": "code",
   "execution_count": 10,
   "id": "a1edca69",
   "metadata": {
    "execution": {
     "iopub.execute_input": "2024-05-02T18:11:37.912534Z",
     "iopub.status.busy": "2024-05-02T18:11:37.912102Z",
     "iopub.status.idle": "2024-05-02T18:11:37.929641Z",
     "shell.execute_reply": "2024-05-02T18:11:37.927803Z"
    },
    "papermill": {
     "duration": 0.029508,
     "end_time": "2024-05-02T18:11:37.933344",
     "exception": false,
     "start_time": "2024-05-02T18:11:37.903836",
     "status": "completed"
    },
    "tags": []
   },
   "outputs": [
    {
     "data": {
      "text/html": [
       "<div>\n",
       "<style scoped>\n",
       "    .dataframe tbody tr th:only-of-type {\n",
       "        vertical-align: middle;\n",
       "    }\n",
       "\n",
       "    .dataframe tbody tr th {\n",
       "        vertical-align: top;\n",
       "    }\n",
       "\n",
       "    .dataframe thead th {\n",
       "        text-align: right;\n",
       "    }\n",
       "</style>\n",
       "<table border=\"1\" class=\"dataframe\">\n",
       "  <thead>\n",
       "    <tr style=\"text-align: right;\">\n",
       "      <th></th>\n",
       "      <th>essay_id</th>\n",
       "      <th>score</th>\n",
       "    </tr>\n",
       "  </thead>\n",
       "  <tbody>\n",
       "    <tr>\n",
       "      <th>0</th>\n",
       "      <td>000d118</td>\n",
       "      <td>2</td>\n",
       "    </tr>\n",
       "    <tr>\n",
       "      <th>1</th>\n",
       "      <td>000fe60</td>\n",
       "      <td>3</td>\n",
       "    </tr>\n",
       "    <tr>\n",
       "      <th>2</th>\n",
       "      <td>001ab80</td>\n",
       "      <td>4</td>\n",
       "    </tr>\n",
       "  </tbody>\n",
       "</table>\n",
       "</div>"
      ],
      "text/plain": [
       "  essay_id  score\n",
       "0  000d118      2\n",
       "1  000fe60      3\n",
       "2  001ab80      4"
      ]
     },
     "execution_count": 10,
     "metadata": {},
     "output_type": "execute_result"
    }
   ],
   "source": [
    "preds_test = logreg.predict(X_test)\n",
    "submission[\"score\"] = preds_test\n",
    "submission[\"score\"] = le.inverse_transform(submission[\"score\"])\n",
    "submission.head()"
   ]
  },
  {
   "cell_type": "code",
   "execution_count": 11,
   "id": "02c54287",
   "metadata": {
    "execution": {
     "iopub.execute_input": "2024-05-02T18:11:37.952138Z",
     "iopub.status.busy": "2024-05-02T18:11:37.951725Z",
     "iopub.status.idle": "2024-05-02T18:11:37.963613Z",
     "shell.execute_reply": "2024-05-02T18:11:37.962155Z"
    },
    "papermill": {
     "duration": 0.02738,
     "end_time": "2024-05-02T18:11:37.967359",
     "exception": false,
     "start_time": "2024-05-02T18:11:37.939979",
     "status": "completed"
    },
    "tags": []
   },
   "outputs": [],
   "source": [
    "submission.to_csv(\"submission.csv\", index=False)"
   ]
  }
 ],
 "metadata": {
  "kaggle": {
   "accelerator": "none",
   "dataSources": [
    {
     "databundleVersionId": 8059942,
     "sourceId": 71485,
     "sourceType": "competition"
    }
   ],
   "dockerImageVersionId": 30698,
   "isGpuEnabled": false,
   "isInternetEnabled": false,
   "language": "python",
   "sourceType": "notebook"
  },
  "kernelspec": {
   "display_name": "Python 3",
   "language": "python",
   "name": "python3"
  },
  "language_info": {
   "codemirror_mode": {
    "name": "ipython",
    "version": 3
   },
   "file_extension": ".py",
   "mimetype": "text/x-python",
   "name": "python",
   "nbconvert_exporter": "python",
   "pygments_lexer": "ipython3",
   "version": "3.10.13"
  },
  "papermill": {
   "default_parameters": {},
   "duration": 50.687235,
   "end_time": "2024-05-02T18:11:39.603345",
   "environment_variables": {},
   "exception": null,
   "input_path": "__notebook__.ipynb",
   "output_path": "__notebook__.ipynb",
   "parameters": {},
   "start_time": "2024-05-02T18:10:48.916110",
   "version": "2.5.0"
  }
 },
 "nbformat": 4,
 "nbformat_minor": 5
}

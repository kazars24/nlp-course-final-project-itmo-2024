{
 "cells": [
  {
   "cell_type": "code",
   "execution_count": 1,
   "id": "ac250401",
   "metadata": {
    "_cell_guid": "b1076dfc-b9ad-4769-8c92-a6c4dae69d19",
    "_uuid": "8f2839f25d086af736a60e9eeb907d3b93b6e0e5",
    "execution": {
     "iopub.execute_input": "2024-05-02T17:52:48.478141Z",
     "iopub.status.busy": "2024-05-02T17:52:48.477463Z",
     "iopub.status.idle": "2024-05-02T17:52:52.017113Z",
     "shell.execute_reply": "2024-05-02T17:52:52.016108Z"
    },
    "papermill": {
     "duration": 3.550413,
     "end_time": "2024-05-02T17:52:52.020372",
     "exception": false,
     "start_time": "2024-05-02T17:52:48.469959",
     "status": "completed"
    },
    "tags": []
   },
   "outputs": [],
   "source": [
    "import pandas as pd\n",
    "from catboost import Pool, CatBoostClassifier\n",
    "from sklearn.model_selection import train_test_split\n",
    "from sklearn.preprocessing import LabelEncoder"
   ]
  },
  {
   "cell_type": "code",
   "execution_count": 2,
   "id": "1e97f7f8",
   "metadata": {
    "execution": {
     "iopub.execute_input": "2024-05-02T17:52:52.033724Z",
     "iopub.status.busy": "2024-05-02T17:52:52.032856Z",
     "iopub.status.idle": "2024-05-02T17:52:52.986816Z",
     "shell.execute_reply": "2024-05-02T17:52:52.985495Z"
    },
    "papermill": {
     "duration": 0.963669,
     "end_time": "2024-05-02T17:52:52.989789",
     "exception": false,
     "start_time": "2024-05-02T17:52:52.026120",
     "status": "completed"
    },
    "tags": []
   },
   "outputs": [
    {
     "data": {
      "text/html": [
       "<div>\n",
       "<style scoped>\n",
       "    .dataframe tbody tr th:only-of-type {\n",
       "        vertical-align: middle;\n",
       "    }\n",
       "\n",
       "    .dataframe tbody tr th {\n",
       "        vertical-align: top;\n",
       "    }\n",
       "\n",
       "    .dataframe thead th {\n",
       "        text-align: right;\n",
       "    }\n",
       "</style>\n",
       "<table border=\"1\" class=\"dataframe\">\n",
       "  <thead>\n",
       "    <tr style=\"text-align: right;\">\n",
       "      <th></th>\n",
       "      <th>essay_id</th>\n",
       "      <th>full_text</th>\n",
       "      <th>score</th>\n",
       "    </tr>\n",
       "  </thead>\n",
       "  <tbody>\n",
       "    <tr>\n",
       "      <th>0</th>\n",
       "      <td>000d118</td>\n",
       "      <td>Many people have car where they live. The thin...</td>\n",
       "      <td>3</td>\n",
       "    </tr>\n",
       "    <tr>\n",
       "      <th>1</th>\n",
       "      <td>000fe60</td>\n",
       "      <td>I am a scientist at NASA that is discussing th...</td>\n",
       "      <td>3</td>\n",
       "    </tr>\n",
       "    <tr>\n",
       "      <th>2</th>\n",
       "      <td>001ab80</td>\n",
       "      <td>People always wish they had the same technolog...</td>\n",
       "      <td>4</td>\n",
       "    </tr>\n",
       "    <tr>\n",
       "      <th>3</th>\n",
       "      <td>001bdc0</td>\n",
       "      <td>We all heard about Venus, the planet without a...</td>\n",
       "      <td>4</td>\n",
       "    </tr>\n",
       "    <tr>\n",
       "      <th>4</th>\n",
       "      <td>002ba53</td>\n",
       "      <td>Dear, State Senator\\n\\nThis is a letter to arg...</td>\n",
       "      <td>3</td>\n",
       "    </tr>\n",
       "  </tbody>\n",
       "</table>\n",
       "</div>"
      ],
      "text/plain": [
       "  essay_id                                          full_text  score\n",
       "0  000d118  Many people have car where they live. The thin...      3\n",
       "1  000fe60  I am a scientist at NASA that is discussing th...      3\n",
       "2  001ab80  People always wish they had the same technolog...      4\n",
       "3  001bdc0  We all heard about Venus, the planet without a...      4\n",
       "4  002ba53  Dear, State Senator\\n\\nThis is a letter to arg...      3"
      ]
     },
     "metadata": {},
     "output_type": "display_data"
    },
    {
     "data": {
      "text/html": [
       "<div>\n",
       "<style scoped>\n",
       "    .dataframe tbody tr th:only-of-type {\n",
       "        vertical-align: middle;\n",
       "    }\n",
       "\n",
       "    .dataframe tbody tr th {\n",
       "        vertical-align: top;\n",
       "    }\n",
       "\n",
       "    .dataframe thead th {\n",
       "        text-align: right;\n",
       "    }\n",
       "</style>\n",
       "<table border=\"1\" class=\"dataframe\">\n",
       "  <thead>\n",
       "    <tr style=\"text-align: right;\">\n",
       "      <th></th>\n",
       "      <th>essay_id</th>\n",
       "      <th>full_text</th>\n",
       "    </tr>\n",
       "  </thead>\n",
       "  <tbody>\n",
       "    <tr>\n",
       "      <th>0</th>\n",
       "      <td>000d118</td>\n",
       "      <td>Many people have car where they live. The thin...</td>\n",
       "    </tr>\n",
       "    <tr>\n",
       "      <th>1</th>\n",
       "      <td>000fe60</td>\n",
       "      <td>I am a scientist at NASA that is discussing th...</td>\n",
       "    </tr>\n",
       "    <tr>\n",
       "      <th>2</th>\n",
       "      <td>001ab80</td>\n",
       "      <td>People always wish they had the same technolog...</td>\n",
       "    </tr>\n",
       "  </tbody>\n",
       "</table>\n",
       "</div>"
      ],
      "text/plain": [
       "  essay_id                                          full_text\n",
       "0  000d118  Many people have car where they live. The thin...\n",
       "1  000fe60  I am a scientist at NASA that is discussing th...\n",
       "2  001ab80  People always wish they had the same technolog..."
      ]
     },
     "metadata": {},
     "output_type": "display_data"
    }
   ],
   "source": [
    "df = pd.read_csv('/kaggle/input/learning-agency-lab-automated-essay-scoring-2/train.csv')\n",
    "test_df = pd.read_csv('/kaggle/input/learning-agency-lab-automated-essay-scoring-2/test.csv')\n",
    "display(df.head())\n",
    "display(test_df.head())"
   ]
  },
  {
   "cell_type": "code",
   "execution_count": 3,
   "id": "03061add",
   "metadata": {
    "execution": {
     "iopub.execute_input": "2024-05-02T17:52:53.003670Z",
     "iopub.status.busy": "2024-05-02T17:52:53.003212Z",
     "iopub.status.idle": "2024-05-02T17:52:53.023624Z",
     "shell.execute_reply": "2024-05-02T17:52:53.022014Z"
    },
    "papermill": {
     "duration": 0.031014,
     "end_time": "2024-05-02T17:52:53.026766",
     "exception": false,
     "start_time": "2024-05-02T17:52:52.995752",
     "status": "completed"
    },
    "tags": []
   },
   "outputs": [],
   "source": [
    "df = df.drop('essay_id', axis=1)"
   ]
  },
  {
   "cell_type": "code",
   "execution_count": 4,
   "id": "7c4f55eb",
   "metadata": {
    "execution": {
     "iopub.execute_input": "2024-05-02T17:52:53.039939Z",
     "iopub.status.busy": "2024-05-02T17:52:53.039496Z",
     "iopub.status.idle": "2024-05-02T17:52:53.046536Z",
     "shell.execute_reply": "2024-05-02T17:52:53.044941Z"
    },
    "papermill": {
     "duration": 0.016968,
     "end_time": "2024-05-02T17:52:53.049491",
     "exception": false,
     "start_time": "2024-05-02T17:52:53.032523",
     "status": "completed"
    },
    "tags": []
   },
   "outputs": [],
   "source": [
    "test_df = test_df.drop('essay_id', axis=1)"
   ]
  },
  {
   "cell_type": "code",
   "execution_count": 5,
   "id": "6048b970",
   "metadata": {
    "execution": {
     "iopub.execute_input": "2024-05-02T17:52:53.062908Z",
     "iopub.status.busy": "2024-05-02T17:52:53.062474Z",
     "iopub.status.idle": "2024-05-02T17:52:53.073057Z",
     "shell.execute_reply": "2024-05-02T17:52:53.071446Z"
    },
    "papermill": {
     "duration": 0.021297,
     "end_time": "2024-05-02T17:52:53.076663",
     "exception": false,
     "start_time": "2024-05-02T17:52:53.055366",
     "status": "completed"
    },
    "tags": []
   },
   "outputs": [],
   "source": [
    "le = LabelEncoder()\n",
    "\n",
    "df['score'] = le.fit_transform(df['score'])"
   ]
  },
  {
   "cell_type": "code",
   "execution_count": 6,
   "id": "26e87775",
   "metadata": {
    "execution": {
     "iopub.execute_input": "2024-05-02T17:52:53.089922Z",
     "iopub.status.busy": "2024-05-02T17:52:53.089525Z",
     "iopub.status.idle": "2024-05-02T17:52:53.110230Z",
     "shell.execute_reply": "2024-05-02T17:52:53.109120Z"
    },
    "papermill": {
     "duration": 0.031261,
     "end_time": "2024-05-02T17:52:53.113828",
     "exception": false,
     "start_time": "2024-05-02T17:52:53.082567",
     "status": "completed"
    },
    "tags": []
   },
   "outputs": [],
   "source": [
    "train_split, val_split = train_test_split(df, test_size=0.2, random_state=52, stratify=df['score'])"
   ]
  },
  {
   "cell_type": "code",
   "execution_count": 7,
   "id": "ae7bb42a",
   "metadata": {
    "execution": {
     "iopub.execute_input": "2024-05-02T17:52:53.128166Z",
     "iopub.status.busy": "2024-05-02T17:52:53.127690Z",
     "iopub.status.idle": "2024-05-02T17:52:53.226230Z",
     "shell.execute_reply": "2024-05-02T17:52:53.224883Z"
    },
    "papermill": {
     "duration": 0.109692,
     "end_time": "2024-05-02T17:52:53.229295",
     "exception": false,
     "start_time": "2024-05-02T17:52:53.119603",
     "status": "completed"
    },
    "tags": []
   },
   "outputs": [],
   "source": [
    "train_pool = Pool(\n",
    "    train_split.drop('score', axis=1),\n",
    "    train_split['score'],\n",
    "    text_features=['full_text'],\n",
    "    feature_names=list(train_split.drop('score', axis=1))\n",
    ")\n",
    "val_pool = Pool(\n",
    "    val_split.drop('score', axis=1),\n",
    "    val_split['score'],\n",
    "    text_features=['full_text'],\n",
    "    feature_names=list(val_split.drop('score', axis=1))\n",
    ")"
   ]
  },
  {
   "cell_type": "code",
   "execution_count": 8,
   "id": "ca0b16a0",
   "metadata": {
    "execution": {
     "iopub.execute_input": "2024-05-02T17:52:53.242453Z",
     "iopub.status.busy": "2024-05-02T17:52:53.242054Z",
     "iopub.status.idle": "2024-05-02T17:54:39.025922Z",
     "shell.execute_reply": "2024-05-02T17:54:39.023300Z"
    },
    "papermill": {
     "duration": 105.793806,
     "end_time": "2024-05-02T17:54:39.028877",
     "exception": false,
     "start_time": "2024-05-02T17:52:53.235071",
     "status": "completed"
    },
    "tags": []
   },
   "outputs": [
    {
     "name": "stdout",
     "output_type": "stream",
     "text": [
      "Learning rate set to 0.180258\n",
      "0:\tlearn: 0.5335978\ttest: 0.5293200\tbest: 0.5293200 (0)\ttotal: 649ms\tremaining: 3m 13s\n",
      "1:\tlearn: 0.5399308\ttest: 0.5495652\tbest: 0.5495652 (1)\ttotal: 1.18s\tremaining: 2m 56s\n",
      "2:\tlearn: 0.5557569\ttest: 0.5650717\tbest: 0.5650717 (2)\ttotal: 1.76s\tremaining: 2m 54s\n",
      "3:\tlearn: 0.5674989\ttest: 0.5722259\tbest: 0.5722259 (3)\ttotal: 2.33s\tremaining: 2m 52s\n",
      "4:\tlearn: 0.5723367\ttest: 0.5832950\tbest: 0.5832950 (4)\ttotal: 2.88s\tremaining: 2m 49s\n",
      "5:\tlearn: 0.5823836\ttest: 0.5895870\tbest: 0.5895870 (5)\ttotal: 3.41s\tremaining: 2m 47s\n",
      "6:\tlearn: 0.5909267\ttest: 0.6005987\tbest: 0.6005987 (6)\ttotal: 3.93s\tremaining: 2m 44s\n",
      "7:\tlearn: 0.5957941\ttest: 0.6039449\tbest: 0.6039449 (7)\ttotal: 4.49s\tremaining: 2m 43s\n",
      "8:\tlearn: 0.6024900\ttest: 0.6084067\tbest: 0.6084067 (8)\ttotal: 5.04s\tremaining: 2m 43s\n",
      "9:\tlearn: 0.6080443\ttest: 0.6118047\tbest: 0.6118047 (9)\ttotal: 5.6s\tremaining: 2m 42s\n",
      "10:\tlearn: 0.6179245\ttest: 0.6234053\tbest: 0.6234053 (10)\ttotal: 6.21s\tremaining: 2m 43s\n",
      "11:\tlearn: 0.6224920\ttest: 0.6290936\tbest: 0.6290936 (11)\ttotal: 6.81s\tremaining: 2m 43s\n",
      "12:\tlearn: 0.6282097\ttest: 0.6338313\tbest: 0.6338313 (12)\ttotal: 7.35s\tremaining: 2m 42s\n",
      "13:\tlearn: 0.6316919\ttest: 0.6418820\tbest: 0.6418820 (13)\ttotal: 7.89s\tremaining: 2m 41s\n",
      "14:\tlearn: 0.6345235\ttest: 0.6445616\tbest: 0.6445616 (14)\ttotal: 8.45s\tremaining: 2m 40s\n",
      "15:\tlearn: 0.6396787\ttest: 0.6462270\tbest: 0.6462270 (15)\ttotal: 9.02s\tremaining: 2m 40s\n",
      "16:\tlearn: 0.6443827\ttest: 0.6488635\tbest: 0.6488635 (16)\ttotal: 9.59s\tremaining: 2m 39s\n",
      "17:\tlearn: 0.6481669\ttest: 0.6503560\tbest: 0.6503560 (17)\ttotal: 10.1s\tremaining: 2m 38s\n",
      "18:\tlearn: 0.6532789\ttest: 0.6560740\tbest: 0.6560740 (18)\ttotal: 10.7s\tremaining: 2m 38s\n",
      "19:\tlearn: 0.6562121\ttest: 0.6586960\tbest: 0.6586960 (19)\ttotal: 11.3s\tremaining: 2m 37s\n",
      "20:\tlearn: 0.6589547\ttest: 0.6609357\tbest: 0.6609357 (20)\ttotal: 11.8s\tremaining: 2m 36s\n",
      "21:\tlearn: 0.6626600\ttest: 0.6629899\tbest: 0.6629899 (21)\ttotal: 12.3s\tremaining: 2m 35s\n",
      "22:\tlearn: 0.6658511\ttest: 0.6644351\tbest: 0.6644351 (22)\ttotal: 12.9s\tremaining: 2m 34s\n",
      "23:\tlearn: 0.6707469\ttest: 0.6719188\tbest: 0.6719188 (23)\ttotal: 13.4s\tremaining: 2m 34s\n",
      "24:\tlearn: 0.6727713\ttest: 0.6747286\tbest: 0.6747286 (24)\ttotal: 14s\tremaining: 2m 33s\n",
      "25:\tlearn: 0.6739831\ttest: 0.6789219\tbest: 0.6789219 (25)\ttotal: 14.5s\tremaining: 2m 32s\n",
      "26:\tlearn: 0.6768845\ttest: 0.6782995\tbest: 0.6789219 (25)\ttotal: 15.1s\tremaining: 2m 32s\n",
      "27:\tlearn: 0.6810971\ttest: 0.6793970\tbest: 0.6793970 (27)\ttotal: 15.8s\tremaining: 2m 33s\n",
      "28:\tlearn: 0.6837697\ttest: 0.6853580\tbest: 0.6853580 (28)\ttotal: 16.5s\tremaining: 2m 33s\n",
      "29:\tlearn: 0.6855335\ttest: 0.6860298\tbest: 0.6860298 (29)\ttotal: 17s\tremaining: 2m 33s\n",
      "30:\tlearn: 0.6880728\ttest: 0.6870149\tbest: 0.6870149 (30)\ttotal: 17.6s\tremaining: 2m 32s\n",
      "31:\tlearn: 0.6893958\ttest: 0.6890296\tbest: 0.6890296 (31)\ttotal: 18.1s\tremaining: 2m 31s\n",
      "32:\tlearn: 0.6925205\ttest: 0.6891069\tbest: 0.6891069 (32)\ttotal: 18.7s\tremaining: 2m 31s\n",
      "33:\tlearn: 0.6931356\ttest: 0.6930509\tbest: 0.6930509 (33)\ttotal: 19.2s\tremaining: 2m 30s\n",
      "34:\tlearn: 0.6963891\ttest: 0.6916209\tbest: 0.6930509 (33)\ttotal: 19.7s\tremaining: 2m 29s\n",
      "35:\tlearn: 0.6968737\ttest: 0.6937641\tbest: 0.6937641 (35)\ttotal: 20.3s\tremaining: 2m 28s\n",
      "36:\tlearn: 0.6969403\ttest: 0.6978485\tbest: 0.6978485 (36)\ttotal: 20.8s\tremaining: 2m 27s\n",
      "37:\tlearn: 0.6985300\ttest: 0.6935755\tbest: 0.6978485 (36)\ttotal: 21.3s\tremaining: 2m 26s\n",
      "38:\tlearn: 0.6983478\ttest: 0.6969264\tbest: 0.6978485 (36)\ttotal: 21.8s\tremaining: 2m 26s\n",
      "39:\tlearn: 0.7014918\ttest: 0.6996422\tbest: 0.6996422 (39)\ttotal: 22.4s\tremaining: 2m 25s\n",
      "40:\tlearn: 0.7022495\ttest: 0.7032399\tbest: 0.7032399 (40)\ttotal: 22.9s\tremaining: 2m 24s\n",
      "41:\tlearn: 0.7026804\ttest: 0.7018028\tbest: 0.7032399 (40)\ttotal: 23.4s\tremaining: 2m 23s\n",
      "42:\tlearn: 0.7026997\ttest: 0.7028221\tbest: 0.7032399 (40)\ttotal: 23.9s\tremaining: 2m 23s\n",
      "43:\tlearn: 0.7036245\ttest: 0.7027902\tbest: 0.7032399 (40)\ttotal: 24.4s\tremaining: 2m 22s\n",
      "44:\tlearn: 0.7041302\ttest: 0.7055432\tbest: 0.7055432 (44)\ttotal: 25s\tremaining: 2m 21s\n",
      "45:\tlearn: 0.7078717\ttest: 0.7101156\tbest: 0.7101156 (45)\ttotal: 25.5s\tremaining: 2m 20s\n",
      "46:\tlearn: 0.7087719\ttest: 0.7073274\tbest: 0.7101156 (45)\ttotal: 26.1s\tremaining: 2m 20s\n",
      "47:\tlearn: 0.7093596\ttest: 0.7100213\tbest: 0.7101156 (45)\ttotal: 26.6s\tremaining: 2m 19s\n",
      "48:\tlearn: 0.7110086\ttest: 0.7139017\tbest: 0.7139017 (48)\ttotal: 27.1s\tremaining: 2m 18s\n",
      "49:\tlearn: 0.7118774\ttest: 0.7140301\tbest: 0.7140301 (49)\ttotal: 27.7s\tremaining: 2m 18s\n",
      "50:\tlearn: 0.7136984\ttest: 0.7140125\tbest: 0.7140301 (49)\ttotal: 28.2s\tremaining: 2m 17s\n",
      "51:\tlearn: 0.7141414\ttest: 0.7134488\tbest: 0.7140301 (49)\ttotal: 28.8s\tremaining: 2m 17s\n",
      "52:\tlearn: 0.7142147\ttest: 0.7135198\tbest: 0.7140301 (49)\ttotal: 29.3s\tremaining: 2m 16s\n",
      "53:\tlearn: 0.7150862\ttest: 0.7143725\tbest: 0.7143725 (53)\ttotal: 29.8s\tremaining: 2m 15s\n",
      "54:\tlearn: 0.7169461\ttest: 0.7136752\tbest: 0.7143725 (53)\ttotal: 30.3s\tremaining: 2m 15s\n",
      "55:\tlearn: 0.7171863\ttest: 0.7143630\tbest: 0.7143725 (53)\ttotal: 30.9s\tremaining: 2m 14s\n",
      "56:\tlearn: 0.7194040\ttest: 0.7171566\tbest: 0.7171566 (56)\ttotal: 31.4s\tremaining: 2m 13s\n",
      "57:\tlearn: 0.7219556\ttest: 0.7168523\tbest: 0.7171566 (56)\ttotal: 32s\tremaining: 2m 13s\n",
      "58:\tlearn: 0.7232903\ttest: 0.7177308\tbest: 0.7177308 (58)\ttotal: 32.5s\tremaining: 2m 12s\n",
      "59:\tlearn: 0.7255725\ttest: 0.7180782\tbest: 0.7180782 (59)\ttotal: 33.1s\tremaining: 2m 12s\n",
      "60:\tlearn: 0.7261173\ttest: 0.7186078\tbest: 0.7186078 (60)\ttotal: 33.6s\tremaining: 2m 11s\n",
      "61:\tlearn: 0.7278968\ttest: 0.7194327\tbest: 0.7194327 (61)\ttotal: 34.2s\tremaining: 2m 11s\n",
      "62:\tlearn: 0.7282739\ttest: 0.7193451\tbest: 0.7194327 (61)\ttotal: 34.7s\tremaining: 2m 10s\n",
      "63:\tlearn: 0.7303707\ttest: 0.7194685\tbest: 0.7194685 (63)\ttotal: 35.3s\tremaining: 2m 9s\n",
      "64:\tlearn: 0.7316986\ttest: 0.7241547\tbest: 0.7241547 (64)\ttotal: 35.9s\tremaining: 2m 9s\n",
      "65:\tlearn: 0.7335845\ttest: 0.7239407\tbest: 0.7241547 (64)\ttotal: 36.4s\tremaining: 2m 9s\n",
      "66:\tlearn: 0.7348098\ttest: 0.7238745\tbest: 0.7241547 (64)\ttotal: 37s\tremaining: 2m 8s\n",
      "67:\tlearn: 0.7376982\ttest: 0.7227341\tbest: 0.7241547 (64)\ttotal: 37.5s\tremaining: 2m 8s\n",
      "68:\tlearn: 0.7377690\ttest: 0.7242800\tbest: 0.7242800 (68)\ttotal: 38.1s\tremaining: 2m 7s\n",
      "69:\tlearn: 0.7378454\ttest: 0.7262872\tbest: 0.7262872 (69)\ttotal: 38.7s\tremaining: 2m 7s\n",
      "70:\tlearn: 0.7394117\ttest: 0.7289564\tbest: 0.7289564 (70)\ttotal: 39.2s\tremaining: 2m 6s\n",
      "71:\tlearn: 0.7434601\ttest: 0.7282620\tbest: 0.7289564 (70)\ttotal: 39.8s\tremaining: 2m 6s\n",
      "72:\tlearn: 0.7435239\ttest: 0.7297883\tbest: 0.7297883 (72)\ttotal: 40.3s\tremaining: 2m 5s\n",
      "73:\tlearn: 0.7440723\ttest: 0.7309965\tbest: 0.7309965 (73)\ttotal: 40.8s\tremaining: 2m 4s\n",
      "74:\tlearn: 0.7457396\ttest: 0.7307051\tbest: 0.7309965 (73)\ttotal: 41.4s\tremaining: 2m 4s\n",
      "75:\tlearn: 0.7463525\ttest: 0.7315582\tbest: 0.7315582 (75)\ttotal: 41.9s\tremaining: 2m 3s\n",
      "76:\tlearn: 0.7475569\ttest: 0.7313542\tbest: 0.7315582 (75)\ttotal: 42.5s\tremaining: 2m 3s\n",
      "77:\tlearn: 0.7489957\ttest: 0.7316854\tbest: 0.7316854 (77)\ttotal: 43.1s\tremaining: 2m 2s\n",
      "78:\tlearn: 0.7499140\ttest: 0.7330005\tbest: 0.7330005 (78)\ttotal: 43.7s\tremaining: 2m 2s\n",
      "79:\tlearn: 0.7506132\ttest: 0.7329275\tbest: 0.7330005 (78)\ttotal: 44.2s\tremaining: 2m 1s\n",
      "80:\tlearn: 0.7504964\ttest: 0.7326429\tbest: 0.7330005 (78)\ttotal: 44.8s\tremaining: 2m 1s\n",
      "81:\tlearn: 0.7515149\ttest: 0.7327763\tbest: 0.7330005 (78)\ttotal: 45.4s\tremaining: 2m\n",
      "82:\tlearn: 0.7512621\ttest: 0.7336706\tbest: 0.7336706 (82)\ttotal: 46s\tremaining: 2m\n",
      "83:\tlearn: 0.7517880\ttest: 0.7331678\tbest: 0.7336706 (82)\ttotal: 46.5s\tremaining: 1m 59s\n",
      "84:\tlearn: 0.7527215\ttest: 0.7340380\tbest: 0.7340380 (84)\ttotal: 47.2s\tremaining: 1m 59s\n",
      "85:\tlearn: 0.7526890\ttest: 0.7345118\tbest: 0.7345118 (85)\ttotal: 47.9s\tremaining: 1m 59s\n",
      "86:\tlearn: 0.7539618\ttest: 0.7350738\tbest: 0.7350738 (86)\ttotal: 48.6s\tremaining: 1m 59s\n",
      "87:\tlearn: 0.7554826\ttest: 0.7358503\tbest: 0.7358503 (87)\ttotal: 49.2s\tremaining: 1m 58s\n",
      "88:\tlearn: 0.7551603\ttest: 0.7362410\tbest: 0.7362410 (88)\ttotal: 49.7s\tremaining: 1m 57s\n",
      "89:\tlearn: 0.7560889\ttest: 0.7360542\tbest: 0.7362410 (88)\ttotal: 50.3s\tremaining: 1m 57s\n",
      "90:\tlearn: 0.7575190\ttest: 0.7377038\tbest: 0.7377038 (90)\ttotal: 50.9s\tremaining: 1m 56s\n",
      "91:\tlearn: 0.7581532\ttest: 0.7388180\tbest: 0.7388180 (91)\ttotal: 51.4s\tremaining: 1m 56s\n",
      "92:\tlearn: 0.7586156\ttest: 0.7389562\tbest: 0.7389562 (92)\ttotal: 51.9s\tremaining: 1m 55s\n",
      "93:\tlearn: 0.7596601\ttest: 0.7401923\tbest: 0.7401923 (93)\ttotal: 52.6s\tremaining: 1m 55s\n",
      "94:\tlearn: 0.7605558\ttest: 0.7399240\tbest: 0.7401923 (93)\ttotal: 53.1s\tremaining: 1m 54s\n",
      "95:\tlearn: 0.7619691\ttest: 0.7415124\tbest: 0.7415124 (95)\ttotal: 53.7s\tremaining: 1m 54s\n",
      "96:\tlearn: 0.7608471\ttest: 0.7405771\tbest: 0.7415124 (95)\ttotal: 54.2s\tremaining: 1m 53s\n",
      "97:\tlearn: 0.7615531\ttest: 0.7411593\tbest: 0.7415124 (95)\ttotal: 54.7s\tremaining: 1m 52s\n",
      "98:\tlearn: 0.7616543\ttest: 0.7422349\tbest: 0.7422349 (98)\ttotal: 55.3s\tremaining: 1m 52s\n",
      "99:\tlearn: 0.7619643\ttest: 0.7422790\tbest: 0.7422790 (99)\ttotal: 55.8s\tremaining: 1m 51s\n",
      "100:\tlearn: 0.7629942\ttest: 0.7422488\tbest: 0.7422790 (99)\ttotal: 56.3s\tremaining: 1m 50s\n",
      "101:\tlearn: 0.7635462\ttest: 0.7422952\tbest: 0.7422952 (101)\ttotal: 56.9s\tremaining: 1m 50s\n",
      "102:\tlearn: 0.7644011\ttest: 0.7438811\tbest: 0.7438811 (102)\ttotal: 57.5s\tremaining: 1m 49s\n",
      "103:\tlearn: 0.7647453\ttest: 0.7430242\tbest: 0.7438811 (102)\ttotal: 58s\tremaining: 1m 49s\n",
      "104:\tlearn: 0.7653784\ttest: 0.7415851\tbest: 0.7438811 (102)\ttotal: 58.6s\tremaining: 1m 48s\n",
      "105:\tlearn: 0.7652330\ttest: 0.7422223\tbest: 0.7438811 (102)\ttotal: 59.1s\tremaining: 1m 48s\n",
      "106:\tlearn: 0.7657497\ttest: 0.7427865\tbest: 0.7438811 (102)\ttotal: 59.6s\tremaining: 1m 47s\n",
      "107:\tlearn: 0.7658952\ttest: 0.7433809\tbest: 0.7438811 (102)\ttotal: 1m\tremaining: 1m 46s\n",
      "108:\tlearn: 0.7660687\ttest: 0.7427231\tbest: 0.7438811 (102)\ttotal: 1m\tremaining: 1m 46s\n",
      "109:\tlearn: 0.7667131\ttest: 0.7433502\tbest: 0.7438811 (102)\ttotal: 1m 1s\tremaining: 1m 45s\n",
      "110:\tlearn: 0.7671146\ttest: 0.7408527\tbest: 0.7438811 (102)\ttotal: 1m 1s\tremaining: 1m 45s\n",
      "111:\tlearn: 0.7679303\ttest: 0.7422292\tbest: 0.7438811 (102)\ttotal: 1m 2s\tremaining: 1m 44s\n",
      "112:\tlearn: 0.7681925\ttest: 0.7419916\tbest: 0.7438811 (102)\ttotal: 1m 2s\tremaining: 1m 43s\n",
      "113:\tlearn: 0.7694854\ttest: 0.7413911\tbest: 0.7438811 (102)\ttotal: 1m 3s\tremaining: 1m 43s\n",
      "114:\tlearn: 0.7698911\ttest: 0.7429332\tbest: 0.7438811 (102)\ttotal: 1m 3s\tremaining: 1m 42s\n",
      "115:\tlearn: 0.7694053\ttest: 0.7433357\tbest: 0.7438811 (102)\ttotal: 1m 4s\tremaining: 1m 42s\n",
      "116:\tlearn: 0.7700702\ttest: 0.7428017\tbest: 0.7438811 (102)\ttotal: 1m 5s\tremaining: 1m 41s\n",
      "117:\tlearn: 0.7703658\ttest: 0.7432487\tbest: 0.7438811 (102)\ttotal: 1m 5s\tremaining: 1m 41s\n",
      "118:\tlearn: 0.7703531\ttest: 0.7432503\tbest: 0.7438811 (102)\ttotal: 1m 6s\tremaining: 1m 40s\n",
      "119:\tlearn: 0.7700877\ttest: 0.7434810\tbest: 0.7438811 (102)\ttotal: 1m 6s\tremaining: 1m 40s\n",
      "120:\tlearn: 0.7712316\ttest: 0.7436829\tbest: 0.7438811 (102)\ttotal: 1m 7s\tremaining: 1m 39s\n",
      "121:\tlearn: 0.7713577\ttest: 0.7442763\tbest: 0.7442763 (121)\ttotal: 1m 7s\tremaining: 1m 39s\n",
      "122:\tlearn: 0.7716313\ttest: 0.7449383\tbest: 0.7449383 (122)\ttotal: 1m 8s\tremaining: 1m 38s\n",
      "123:\tlearn: 0.7722742\ttest: 0.7429798\tbest: 0.7449383 (122)\ttotal: 1m 8s\tremaining: 1m 37s\n",
      "124:\tlearn: 0.7727746\ttest: 0.7417970\tbest: 0.7449383 (122)\ttotal: 1m 9s\tremaining: 1m 37s\n",
      "125:\tlearn: 0.7735123\ttest: 0.7440441\tbest: 0.7449383 (122)\ttotal: 1m 10s\tremaining: 1m 36s\n",
      "126:\tlearn: 0.7733430\ttest: 0.7447768\tbest: 0.7449383 (122)\ttotal: 1m 10s\tremaining: 1m 36s\n",
      "127:\tlearn: 0.7747795\ttest: 0.7440674\tbest: 0.7449383 (122)\ttotal: 1m 11s\tremaining: 1m 35s\n",
      "128:\tlearn: 0.7744739\ttest: 0.7443911\tbest: 0.7449383 (122)\ttotal: 1m 11s\tremaining: 1m 34s\n",
      "129:\tlearn: 0.7755995\ttest: 0.7435127\tbest: 0.7449383 (122)\ttotal: 1m 12s\tremaining: 1m 34s\n",
      "130:\tlearn: 0.7764216\ttest: 0.7442981\tbest: 0.7449383 (122)\ttotal: 1m 12s\tremaining: 1m 33s\n",
      "131:\tlearn: 0.7762366\ttest: 0.7442442\tbest: 0.7449383 (122)\ttotal: 1m 13s\tremaining: 1m 33s\n",
      "132:\tlearn: 0.7761711\ttest: 0.7435511\tbest: 0.7449383 (122)\ttotal: 1m 13s\tremaining: 1m 32s\n",
      "133:\tlearn: 0.7765782\ttest: 0.7440754\tbest: 0.7449383 (122)\ttotal: 1m 14s\tremaining: 1m 32s\n",
      "134:\tlearn: 0.7767417\ttest: 0.7436891\tbest: 0.7449383 (122)\ttotal: 1m 14s\tremaining: 1m 31s\n",
      "135:\tlearn: 0.7770558\ttest: 0.7451441\tbest: 0.7451441 (135)\ttotal: 1m 15s\tremaining: 1m 30s\n",
      "136:\tlearn: 0.7785612\ttest: 0.7451573\tbest: 0.7451573 (136)\ttotal: 1m 15s\tremaining: 1m 30s\n",
      "137:\tlearn: 0.7783108\ttest: 0.7438951\tbest: 0.7451573 (136)\ttotal: 1m 16s\tremaining: 1m 29s\n",
      "138:\tlearn: 0.7783009\ttest: 0.7445730\tbest: 0.7451573 (136)\ttotal: 1m 16s\tremaining: 1m 29s\n",
      "139:\tlearn: 0.7790521\ttest: 0.7446001\tbest: 0.7451573 (136)\ttotal: 1m 17s\tremaining: 1m 28s\n",
      "140:\tlearn: 0.7805686\ttest: 0.7440120\tbest: 0.7451573 (136)\ttotal: 1m 18s\tremaining: 1m 28s\n",
      "141:\tlearn: 0.7814792\ttest: 0.7452497\tbest: 0.7452497 (141)\ttotal: 1m 18s\tremaining: 1m 27s\n",
      "142:\tlearn: 0.7817173\ttest: 0.7460023\tbest: 0.7460023 (142)\ttotal: 1m 19s\tremaining: 1m 26s\n",
      "143:\tlearn: 0.7823898\ttest: 0.7466499\tbest: 0.7466499 (143)\ttotal: 1m 19s\tremaining: 1m 26s\n",
      "144:\tlearn: 0.7831012\ttest: 0.7464579\tbest: 0.7466499 (143)\ttotal: 1m 20s\tremaining: 1m 26s\n",
      "145:\tlearn: 0.7840065\ttest: 0.7473013\tbest: 0.7473013 (145)\ttotal: 1m 21s\tremaining: 1m 25s\n",
      "146:\tlearn: 0.7843604\ttest: 0.7477901\tbest: 0.7477901 (146)\ttotal: 1m 21s\tremaining: 1m 25s\n",
      "147:\tlearn: 0.7846221\ttest: 0.7474094\tbest: 0.7477901 (146)\ttotal: 1m 22s\tremaining: 1m 24s\n",
      "148:\tlearn: 0.7850508\ttest: 0.7467460\tbest: 0.7477901 (146)\ttotal: 1m 22s\tremaining: 1m 23s\n",
      "149:\tlearn: 0.7846871\ttest: 0.7468339\tbest: 0.7477901 (146)\ttotal: 1m 23s\tremaining: 1m 23s\n",
      "150:\tlearn: 0.7856321\ttest: 0.7456026\tbest: 0.7477901 (146)\ttotal: 1m 23s\tremaining: 1m 22s\n",
      "151:\tlearn: 0.7867801\ttest: 0.7471175\tbest: 0.7477901 (146)\ttotal: 1m 24s\tremaining: 1m 22s\n",
      "152:\tlearn: 0.7871637\ttest: 0.7471334\tbest: 0.7477901 (146)\ttotal: 1m 24s\tremaining: 1m 21s\n",
      "153:\tlearn: 0.7884721\ttest: 0.7460627\tbest: 0.7477901 (146)\ttotal: 1m 25s\tremaining: 1m 20s\n",
      "154:\tlearn: 0.7893672\ttest: 0.7468570\tbest: 0.7477901 (146)\ttotal: 1m 25s\tremaining: 1m 20s\n",
      "155:\tlearn: 0.7891263\ttest: 0.7484802\tbest: 0.7484802 (155)\ttotal: 1m 26s\tremaining: 1m 19s\n",
      "156:\tlearn: 0.7892459\ttest: 0.7486200\tbest: 0.7486200 (156)\ttotal: 1m 26s\tremaining: 1m 19s\n",
      "157:\tlearn: 0.7905879\ttest: 0.7483648\tbest: 0.7486200 (156)\ttotal: 1m 27s\tremaining: 1m 18s\n",
      "158:\tlearn: 0.7910347\ttest: 0.7477400\tbest: 0.7486200 (156)\ttotal: 1m 27s\tremaining: 1m 17s\n",
      "159:\tlearn: 0.7919102\ttest: 0.7475220\tbest: 0.7486200 (156)\ttotal: 1m 28s\tremaining: 1m 17s\n",
      "160:\tlearn: 0.7920681\ttest: 0.7486247\tbest: 0.7486247 (160)\ttotal: 1m 29s\tremaining: 1m 16s\n",
      "161:\tlearn: 0.7925719\ttest: 0.7485416\tbest: 0.7486247 (160)\ttotal: 1m 29s\tremaining: 1m 16s\n",
      "162:\tlearn: 0.7923462\ttest: 0.7474976\tbest: 0.7486247 (160)\ttotal: 1m 30s\tremaining: 1m 15s\n",
      "163:\tlearn: 0.7930481\ttest: 0.7487858\tbest: 0.7487858 (163)\ttotal: 1m 30s\tremaining: 1m 15s\n",
      "164:\tlearn: 0.7932712\ttest: 0.7489813\tbest: 0.7489813 (164)\ttotal: 1m 31s\tremaining: 1m 14s\n",
      "165:\tlearn: 0.7935994\ttest: 0.7507411\tbest: 0.7507411 (165)\ttotal: 1m 31s\tremaining: 1m 13s\n",
      "166:\tlearn: 0.7949739\ttest: 0.7495367\tbest: 0.7507411 (165)\ttotal: 1m 32s\tremaining: 1m 13s\n",
      "167:\tlearn: 0.7953961\ttest: 0.7486799\tbest: 0.7507411 (165)\ttotal: 1m 32s\tremaining: 1m 12s\n",
      "168:\tlearn: 0.7951707\ttest: 0.7483347\tbest: 0.7507411 (165)\ttotal: 1m 33s\tremaining: 1m 12s\n",
      "169:\tlearn: 0.7959041\ttest: 0.7494998\tbest: 0.7507411 (165)\ttotal: 1m 33s\tremaining: 1m 11s\n",
      "170:\tlearn: 0.7961018\ttest: 0.7495259\tbest: 0.7507411 (165)\ttotal: 1m 34s\tremaining: 1m 11s\n",
      "171:\tlearn: 0.7960248\ttest: 0.7493165\tbest: 0.7507411 (165)\ttotal: 1m 34s\tremaining: 1m 10s\n",
      "172:\tlearn: 0.7957327\ttest: 0.7481738\tbest: 0.7507411 (165)\ttotal: 1m 35s\tremaining: 1m 9s\n",
      "173:\tlearn: 0.7972554\ttest: 0.7496494\tbest: 0.7507411 (165)\ttotal: 1m 35s\tremaining: 1m 9s\n",
      "174:\tlearn: 0.7973696\ttest: 0.7503058\tbest: 0.7507411 (165)\ttotal: 1m 36s\tremaining: 1m 8s\n",
      "175:\tlearn: 0.7977589\ttest: 0.7494659\tbest: 0.7507411 (165)\ttotal: 1m 36s\tremaining: 1m 8s\n",
      "176:\tlearn: 0.7976449\ttest: 0.7506238\tbest: 0.7507411 (165)\ttotal: 1m 37s\tremaining: 1m 7s\n",
      "177:\tlearn: 0.7978717\ttest: 0.7495577\tbest: 0.7507411 (165)\ttotal: 1m 37s\tremaining: 1m 7s\n",
      "178:\tlearn: 0.7988499\ttest: 0.7486596\tbest: 0.7507411 (165)\ttotal: 1m 38s\tremaining: 1m 6s\n",
      "179:\tlearn: 0.7988409\ttest: 0.7485169\tbest: 0.7507411 (165)\ttotal: 1m 38s\tremaining: 1m 5s\n",
      "180:\tlearn: 0.7993599\ttest: 0.7502124\tbest: 0.7507411 (165)\ttotal: 1m 39s\tremaining: 1m 5s\n",
      "181:\tlearn: 0.7989485\ttest: 0.7502046\tbest: 0.7507411 (165)\ttotal: 1m 39s\tremaining: 1m 4s\n",
      "182:\tlearn: 0.7998996\ttest: 0.7506691\tbest: 0.7507411 (165)\ttotal: 1m 40s\tremaining: 1m 4s\n",
      "183:\tlearn: 0.8008796\ttest: 0.7493669\tbest: 0.7507411 (165)\ttotal: 1m 41s\tremaining: 1m 3s\n",
      "184:\tlearn: 0.8015792\ttest: 0.7496067\tbest: 0.7507411 (165)\ttotal: 1m 41s\tremaining: 1m 3s\n",
      "185:\tlearn: 0.8013318\ttest: 0.7490854\tbest: 0.7507411 (165)\ttotal: 1m 42s\tremaining: 1m 2s\n",
      "Stopped by overfitting detector  (20 iterations wait)\n",
      "\n",
      "bestTest = 0.7507410891\n",
      "bestIteration = 165\n",
      "\n",
      "Shrink model to first 166 iterations.\n"
     ]
    },
    {
     "data": {
      "text/plain": [
       "<catboost.core.CatBoostClassifier at 0x7aa21174fa60>"
      ]
     },
     "execution_count": 8,
     "metadata": {},
     "output_type": "execute_result"
    }
   ],
   "source": [
    "model = CatBoostClassifier(iterations=300,\n",
    "                           depth=5,\n",
    "                           eval_metric='WKappa',\n",
    "                           early_stopping_rounds=20,\n",
    "                           use_best_model=True,\n",
    "                           random_seed=33)\n",
    "\n",
    "model.fit(train_pool, eval_set=val_pool)"
   ]
  },
  {
   "cell_type": "code",
   "execution_count": 9,
   "id": "02f56747",
   "metadata": {
    "execution": {
     "iopub.execute_input": "2024-05-02T17:54:39.082243Z",
     "iopub.status.busy": "2024-05-02T17:54:39.081803Z",
     "iopub.status.idle": "2024-05-02T17:54:39.092313Z",
     "shell.execute_reply": "2024-05-02T17:54:39.090935Z"
    },
    "papermill": {
     "duration": 0.041454,
     "end_time": "2024-05-02T17:54:39.096931",
     "exception": false,
     "start_time": "2024-05-02T17:54:39.055477",
     "status": "completed"
    },
    "tags": []
   },
   "outputs": [],
   "source": [
    "test_pool = Pool(\n",
    "    data=test_df,\n",
    "    text_features=['full_text']\n",
    ")\n",
    "preds_test = model.predict(test_pool)"
   ]
  },
  {
   "cell_type": "code",
   "execution_count": 10,
   "id": "ec3ae2e9",
   "metadata": {
    "execution": {
     "iopub.execute_input": "2024-05-02T17:54:39.150681Z",
     "iopub.status.busy": "2024-05-02T17:54:39.150215Z",
     "iopub.status.idle": "2024-05-02T17:54:39.168789Z",
     "shell.execute_reply": "2024-05-02T17:54:39.167239Z"
    },
    "papermill": {
     "duration": 0.048115,
     "end_time": "2024-05-02T17:54:39.171945",
     "exception": false,
     "start_time": "2024-05-02T17:54:39.123830",
     "status": "completed"
    },
    "tags": []
   },
   "outputs": [
    {
     "data": {
      "text/html": [
       "<div>\n",
       "<style scoped>\n",
       "    .dataframe tbody tr th:only-of-type {\n",
       "        vertical-align: middle;\n",
       "    }\n",
       "\n",
       "    .dataframe tbody tr th {\n",
       "        vertical-align: top;\n",
       "    }\n",
       "\n",
       "    .dataframe thead th {\n",
       "        text-align: right;\n",
       "    }\n",
       "</style>\n",
       "<table border=\"1\" class=\"dataframe\">\n",
       "  <thead>\n",
       "    <tr style=\"text-align: right;\">\n",
       "      <th></th>\n",
       "      <th>essay_id</th>\n",
       "      <th>score</th>\n",
       "    </tr>\n",
       "  </thead>\n",
       "  <tbody>\n",
       "    <tr>\n",
       "      <th>0</th>\n",
       "      <td>000d118</td>\n",
       "      <td>3</td>\n",
       "    </tr>\n",
       "    <tr>\n",
       "      <th>1</th>\n",
       "      <td>000fe60</td>\n",
       "      <td>3</td>\n",
       "    </tr>\n",
       "    <tr>\n",
       "      <th>2</th>\n",
       "      <td>001ab80</td>\n",
       "      <td>4</td>\n",
       "    </tr>\n",
       "  </tbody>\n",
       "</table>\n",
       "</div>"
      ],
      "text/plain": [
       "  essay_id  score\n",
       "0  000d118      3\n",
       "1  000fe60      3\n",
       "2  001ab80      4"
      ]
     },
     "execution_count": 10,
     "metadata": {},
     "output_type": "execute_result"
    }
   ],
   "source": [
    "submission = pd.read_csv('/kaggle/input/learning-agency-lab-automated-essay-scoring-2/sample_submission.csv')\n",
    "submission.head()"
   ]
  },
  {
   "cell_type": "code",
   "execution_count": 11,
   "id": "fd169fd0",
   "metadata": {
    "execution": {
     "iopub.execute_input": "2024-05-02T17:54:39.221726Z",
     "iopub.status.busy": "2024-05-02T17:54:39.221302Z",
     "iopub.status.idle": "2024-05-02T17:54:39.228141Z",
     "shell.execute_reply": "2024-05-02T17:54:39.226727Z"
    },
    "papermill": {
     "duration": 0.035051,
     "end_time": "2024-05-02T17:54:39.230952",
     "exception": false,
     "start_time": "2024-05-02T17:54:39.195901",
     "status": "completed"
    },
    "tags": []
   },
   "outputs": [],
   "source": [
    "submission[\"score\"] = preds_test\n",
    "submission[\"score\"] = le.inverse_transform(submission[\"score\"])"
   ]
  },
  {
   "cell_type": "code",
   "execution_count": 12,
   "id": "1ccdf1c2",
   "metadata": {
    "execution": {
     "iopub.execute_input": "2024-05-02T17:54:39.279696Z",
     "iopub.status.busy": "2024-05-02T17:54:39.279103Z",
     "iopub.status.idle": "2024-05-02T17:54:39.289844Z",
     "shell.execute_reply": "2024-05-02T17:54:39.288722Z"
    },
    "papermill": {
     "duration": 0.038101,
     "end_time": "2024-05-02T17:54:39.292664",
     "exception": false,
     "start_time": "2024-05-02T17:54:39.254563",
     "status": "completed"
    },
    "tags": []
   },
   "outputs": [],
   "source": [
    "submission.to_csv(\"submission.csv\", index=False)"
   ]
  }
 ],
 "metadata": {
  "kaggle": {
   "accelerator": "none",
   "dataSources": [
    {
     "databundleVersionId": 8059942,
     "sourceId": 71485,
     "sourceType": "competition"
    }
   ],
   "dockerImageVersionId": 30698,
   "isGpuEnabled": false,
   "isInternetEnabled": false,
   "language": "python",
   "sourceType": "notebook"
  },
  "kernelspec": {
   "display_name": "Python 3",
   "language": "python",
   "name": "python3"
  },
  "language_info": {
   "codemirror_mode": {
    "name": "ipython",
    "version": 3
   },
   "file_extension": ".py",
   "mimetype": "text/x-python",
   "name": "python",
   "nbconvert_exporter": "python",
   "pygments_lexer": "ipython3",
   "version": "3.10.13"
  },
  "papermill": {
   "default_parameters": {},
   "duration": 115.128914,
   "end_time": "2024-05-02T17:54:40.139682",
   "environment_variables": {},
   "exception": null,
   "input_path": "__notebook__.ipynb",
   "output_path": "__notebook__.ipynb",
   "parameters": {},
   "start_time": "2024-05-02T17:52:45.010768",
   "version": "2.5.0"
  }
 },
 "nbformat": 4,
 "nbformat_minor": 5
}
